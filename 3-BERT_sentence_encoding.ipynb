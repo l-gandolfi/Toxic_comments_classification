{
 "cells": [
  {
   "cell_type": "code",
   "execution_count": 1,
   "metadata": {},
   "outputs": [
    {
     "name": "stderr",
     "output_type": "stream",
     "text": [
      "Using TensorFlow backend.\n"
     ]
    }
   ],
   "source": [
    "import numpy as np\n",
    "import pandas as pd\n",
    "import matplotlib.pyplot as plt\n",
    "%matplotlib inline\n",
    "\n",
    "from keras import Model, Sequential\n",
    "from keras.layers import Input, Dense, Flatten, Embedding, Dropout\n",
    "from keras.callbacks import ReduceLROnPlateau, ModelCheckpoint\n",
    "\n",
    "from keras.preprocessing.text import Tokenizer\n",
    "from keras.preprocessing.sequence import pad_sequences\n",
    "\n",
    "from sklearn.model_selection import train_test_split\n",
    "from sklearn.metrics import classification_report\n",
    "from sklearn.metrics import precision_recall_fscore_support\n",
    "\n",
    "import talos\n",
    "from talos import Predict\n",
    "\n",
    "import os.path as path"
   ]
  },
  {
   "cell_type": "markdown",
   "metadata": {},
   "source": [
    "## Carichiamo i dati"
   ]
  },
  {
   "cell_type": "code",
   "execution_count": 2,
   "metadata": {},
   "outputs": [],
   "source": [
    "PATH = path.abspath(\"\")+'/dataset/bert/'\n",
    "\n",
    "train_data = pd.read_csv(PATH+'train.csv')\n",
    "train_vectors = np.load(PATH+'bert_train_vectors.npy')\n",
    "test_vectors = pd.read_csv(PATH+'bert_test_vectors.csv', header=None)\n",
    "test_labels = pd.read_csv(PATH+'bert_test_labels.csv', header=None)\n",
    "\n",
    "list_classes = list_classes = [\"toxic\", \"severe_toxic\", \"obscene\", \"threat\", \"insult\", \"identity_hate\"]\n",
    "train_labels = train_data[list_classes].values"
   ]
  },
  {
   "cell_type": "code",
   "execution_count": 3,
   "metadata": {},
   "outputs": [
    {
     "data": {
      "text/plain": [
       "(6243, 768)"
      ]
     },
     "execution_count": 3,
     "metadata": {},
     "output_type": "execute_result"
    }
   ],
   "source": [
    "test_vectors.shape"
   ]
  },
  {
   "cell_type": "markdown",
   "metadata": {},
   "source": [
    "### Split train data in train and validation "
   ]
  },
  {
   "cell_type": "code",
   "execution_count": 4,
   "metadata": {},
   "outputs": [
    {
     "name": "stdout",
     "output_type": "stream",
     "text": [
      "(127656, 768)\n",
      "(127656, 6)\n",
      "(31915, 768)\n",
      "(31915, 6)\n"
     ]
    }
   ],
   "source": [
    "x_train, x_val, y_train, y_val = train_test_split(train_vectors, train_labels, test_size=0.2, random_state=42)\n",
    "\n",
    "print(x_train.shape)\n",
    "print(y_train.shape)\n",
    "print(x_val.shape)\n",
    "print(y_val.shape)"
   ]
  },
  {
   "cell_type": "markdown",
   "metadata": {},
   "source": [
    "### Definiamo le metriche custom da utilizzare durante la Fit"
   ]
  },
  {
   "cell_type": "code",
   "execution_count": 5,
   "metadata": {},
   "outputs": [],
   "source": [
    "from keras import backend as K\n",
    "\n",
    "def recall_m(y_true, y_pred):\n",
    "    true_positives = K.sum(K.round(K.clip(y_true * y_pred, 0, 1)))\n",
    "    possible_positives = K.sum(K.round(K.clip(y_true, 0, 1)))\n",
    "    recall = true_positives / (possible_positives + K.epsilon())\n",
    "    return recall\n",
    "\n",
    "def precision_m(y_true, y_pred):\n",
    "    true_positives = K.sum(K.round(K.clip(y_true * y_pred, 0, 1)))\n",
    "    predicted_positives = K.sum(K.round(K.clip(y_pred, 0, 1)))\n",
    "    precision = true_positives / (predicted_positives + K.epsilon())\n",
    "    return precision\n",
    "\n",
    "def fmeasure(y_true, y_pred):\n",
    "    precision = precision_m(y_true, y_pred)\n",
    "    recall = recall_m(y_true, y_pred)\n",
    "    return 2*((precision*recall)/(precision+recall+K.epsilon()))"
   ]
  },
  {
   "cell_type": "markdown",
   "metadata": {},
   "source": [
    "### Definiamo le funzioni per visualizzare i plot che mostrano l'andamento dell'apprendimento"
   ]
  },
  {
   "cell_type": "code",
   "execution_count": 6,
   "metadata": {},
   "outputs": [],
   "source": [
    "def plot_history(network_history):\n",
    "    plt.figure()\n",
    "    plt.xlabel('Epochs')\n",
    "    plt.ylabel('Loss')\n",
    "    plt.plot(x_plot, network_history.history['loss'])\n",
    "    plt.plot(x_plot, network_history.history['val_loss'])\n",
    "    plt.legend(['Training', 'Validation'])\n",
    "\n",
    "    plt.figure()\n",
    "    plt.xlabel('Epochs')\n",
    "    plt.ylabel('Accuracy')\n",
    "    plt.plot(x_plot, network_history.history['accuracy'])\n",
    "    plt.plot(x_plot, network_history.history['val_accuracy'])\n",
    "    plt.legend(['Training', 'Validation'], loc='lower right')\n",
    "    plt.show()\n",
    "    \n",
    "    plt.figure()\n",
    "    plt.xlabel('Epochs')\n",
    "    plt.ylabel('F1measure')\n",
    "    plt.plot(x_plot, network_history.history['fmeasure'])\n",
    "    plt.plot(x_plot, network_history.history['val_fmeasure'])\n",
    "    plt.legend(['Training', 'Validation'], loc='lower right')\n",
    "    plt.show()"
   ]
  },
  {
   "cell_type": "markdown",
   "metadata": {},
   "source": [
    "### Ok, a questo punto possiamo iniziare a OTTIMIZZARE!\n",
    "### Dobbiamo definire la rete come una funzione black box: la funzione prende in input i dati e gli iperparametri da ottimizare e restituisce la history e il modello stesso"
   ]
  },
  {
   "cell_type": "code",
   "execution_count": 7,
   "metadata": {},
   "outputs": [],
   "source": [
    "import talos\n",
    "from keras import optimizers\n",
    "# define the model function:\n",
    "def toxic_clf(x_train, y_train, x_val, y_val, params):\n",
    "    sequence_input = Input(shape=(x_train.shape[1],), name='input')\n",
    "    layer = Dense(params['first_hidden'], activation=\"relu\", name='hidden_1')(sequence_input)\n",
    "    layer = Dropout(0.3)(layer)\n",
    "    layer = Dense(params['second_hidden'], activation=\"relu\", name='hidden_2')(layer)\n",
    "    layer = Dense(params['third_hidden'], activation=\"relu\", name='hidden_3')(layer)\n",
    "    output = Dense(6, activation=\"sigmoid\", name='output')(layer)\n",
    "    model = Model(sequence_input, output)\n",
    "    \n",
    "    # Optimizer\n",
    "    opt = optimizers.Adam(learning_rate=0.005, amsgrad=True)\n",
    "\n",
    "    # Monitor on learning rate\n",
    "    learning_rate_reduction = ReduceLROnPlateau(monitor='val_loss', \n",
    "                                                patience=2, \n",
    "                                                verbose=1, \n",
    "                                                mode='min',\n",
    "                                                factor=0.5, \n",
    "                                                min_lr=0.00001)\n",
    "\n",
    "    model.compile(loss = 'binary_crossentropy', optimizer = opt, metrics = ['accuracy', fmeasure])\n",
    "    \n",
    "    nepochs = params['round_epochs']\n",
    "    batch = params['batch_size']\n",
    "    history = model.fit(x_train, y_train, epochs = nepochs, batch_size = batch, \n",
    "                        validation_data = (x_val, y_val), callbacks=[learning_rate_reduction])\n",
    "    \n",
    "    return history, model"
   ]
  },
  {
   "cell_type": "markdown",
   "metadata": {},
   "source": [
    "### Definiamo prima di tutto un insieme di iperparametri indicativo secondo le nostre esperienze con questo dataset\n",
    "### Dopo una esecuzione con un budget limitato sarà possibile analizzare i risultati per ridurre lo spazio di ricerca."
   ]
  },
  {
   "cell_type": "code",
   "execution_count": 8,
   "metadata": {},
   "outputs": [],
   "source": [
    "# Define the params dict\n",
    "params = {'first_hidden':[200, 400, 560, 768, 800],\n",
    "     'batch_size': [32, 64, 128],\n",
    "     'round_epochs': [12, 15, 18],\n",
    "     'second_hidden': [100, 200, 300],\n",
    "     'third_hidden': [20, 32, 50]}"
   ]
  },
  {
   "cell_type": "markdown",
   "metadata": {},
   "source": [
    "### Procediamo con un modello random forest con budget 4"
   ]
  },
  {
   "cell_type": "code",
   "execution_count": 9,
   "metadata": {},
   "outputs": [
    {
     "name": "stderr",
     "output_type": "stream",
     "text": [
      "\r",
      "  0%|          | 0/4 [00:00<?, ?it/s]"
     ]
    },
    {
     "name": "stdout",
     "output_type": "stream",
     "text": [
      "Train on 127656 samples, validate on 31915 samples\n",
      "Epoch 1/18\n",
      "127656/127656 [==============================] - 7s 53us/step - loss: 0.0618 - accuracy: 0.9771 - fmeasure: 0.6227 - val_loss: 0.0556 - val_accuracy: 0.9780 - val_fmeasure: 0.6083\n",
      "Epoch 2/18\n",
      "127656/127656 [==============================] - 7s 53us/step - loss: 0.0546 - accuracy: 0.9794 - fmeasure: 0.6640 - val_loss: 0.0536 - val_accuracy: 0.9794 - val_fmeasure: 0.6445\n",
      "Epoch 3/18\n",
      "127656/127656 [==============================] - 7s 53us/step - loss: 0.0523 - accuracy: 0.9802 - fmeasure: 0.6791 - val_loss: 0.0519 - val_accuracy: 0.9802 - val_fmeasure: 0.6873\n",
      "Epoch 4/18\n",
      "127656/127656 [==============================] - 6s 51us/step - loss: 0.0512 - accuracy: 0.9804 - fmeasure: 0.6867 - val_loss: 0.0560 - val_accuracy: 0.9789 - val_fmeasure: 0.6301\n",
      "Epoch 5/18\n",
      "127656/127656 [==============================] - 6s 50us/step - loss: 0.0502 - accuracy: 0.9807 - fmeasure: 0.6919 - val_loss: 0.0515 - val_accuracy: 0.9804 - val_fmeasure: 0.7090\n",
      "Epoch 6/18\n",
      "127656/127656 [==============================] - 7s 53us/step - loss: 0.0489 - accuracy: 0.9813 - fmeasure: 0.6999 - val_loss: 0.0501 - val_accuracy: 0.9805 - val_fmeasure: 0.6825\n",
      "Epoch 7/18\n",
      "127656/127656 [==============================] - 7s 53us/step - loss: 0.0481 - accuracy: 0.9817 - fmeasure: 0.7100 - val_loss: 0.0509 - val_accuracy: 0.9805 - val_fmeasure: 0.6903\n",
      "Epoch 8/18\n",
      "127656/127656 [==============================] - 6s 51us/step - loss: 0.0473 - accuracy: 0.9817 - fmeasure: 0.7110 - val_loss: 0.0505 - val_accuracy: 0.9807 - val_fmeasure: 0.7072\n",
      "\n",
      "Epoch 00008: ReduceLROnPlateau reducing learning rate to 0.0024999999441206455.\n",
      "Epoch 9/18\n",
      "127656/127656 [==============================] - 7s 52us/step - loss: 0.0443 - accuracy: 0.9829 - fmeasure: 0.7312 - val_loss: 0.0500 - val_accuracy: 0.9809 - val_fmeasure: 0.6945\n",
      "Epoch 10/18\n",
      "127656/127656 [==============================] - 7s 52us/step - loss: 0.0432 - accuracy: 0.9831 - fmeasure: 0.7372 - val_loss: 0.0510 - val_accuracy: 0.9807 - val_fmeasure: 0.6962\n",
      "Epoch 11/18\n",
      "127656/127656 [==============================] - 7s 51us/step - loss: 0.0428 - accuracy: 0.9833 - fmeasure: 0.7421 - val_loss: 0.0510 - val_accuracy: 0.9807 - val_fmeasure: 0.6921\n",
      "\n",
      "Epoch 00011: ReduceLROnPlateau reducing learning rate to 0.0012499999720603228.\n",
      "Epoch 12/18\n",
      "127656/127656 [==============================] - 7s 52us/step - loss: 0.0406 - accuracy: 0.9841 - fmeasure: 0.7554 - val_loss: 0.0505 - val_accuracy: 0.9809 - val_fmeasure: 0.7015\n",
      "Epoch 13/18\n",
      "127656/127656 [==============================] - 7s 53us/step - loss: 0.0400 - accuracy: 0.9843 - fmeasure: 0.7593 - val_loss: 0.0503 - val_accuracy: 0.9809 - val_fmeasure: 0.7079\n",
      "\n",
      "Epoch 00013: ReduceLROnPlateau reducing learning rate to 0.0006249999860301614.\n",
      "Epoch 14/18\n",
      "127656/127656 [==============================] - 6s 50us/step - loss: 0.0386 - accuracy: 0.9848 - fmeasure: 0.7677 - val_loss: 0.0503 - val_accuracy: 0.9809 - val_fmeasure: 0.7067\n",
      "Epoch 15/18\n",
      "127656/127656 [==============================] - 7s 51us/step - loss: 0.0379 - accuracy: 0.9852 - fmeasure: 0.7741 - val_loss: 0.0507 - val_accuracy: 0.9811 - val_fmeasure: 0.7111\n",
      "\n",
      "Epoch 00015: ReduceLROnPlateau reducing learning rate to 0.0003124999930150807.\n",
      "Epoch 16/18\n",
      "127656/127656 [==============================] - 7s 53us/step - loss: 0.0372 - accuracy: 0.9853 - fmeasure: 0.7755 - val_loss: 0.0509 - val_accuracy: 0.9811 - val_fmeasure: 0.7095\n",
      "Epoch 17/18\n",
      "127656/127656 [==============================] - 7s 51us/step - loss: 0.0369 - accuracy: 0.9855 - fmeasure: 0.7788 - val_loss: 0.0510 - val_accuracy: 0.9811 - val_fmeasure: 0.7108\n",
      "\n",
      "Epoch 00017: ReduceLROnPlateau reducing learning rate to 0.00015624999650754035.\n",
      "Epoch 18/18\n",
      "127656/127656 [==============================] - 7s 51us/step - loss: 0.0364 - accuracy: 0.9857 - fmeasure: 0.7811 - val_loss: 0.0510 - val_accuracy: 0.9811 - val_fmeasure: 0.7143\n"
     ]
    },
    {
     "name": "stderr",
     "output_type": "stream",
     "text": [
      "\r",
      " 25%|██▌       | 1/4 [01:59<05:59, 119.81s/it]"
     ]
    },
    {
     "name": "stdout",
     "output_type": "stream",
     "text": [
      "Train on 127656 samples, validate on 31915 samples\n",
      "Epoch 1/12\n",
      "127656/127656 [==============================] - 23s 181us/step - loss: 0.0624 - accuracy: 0.9773 - fmeasure: 0.5479 - val_loss: 0.0546 - val_accuracy: 0.9793 - val_fmeasure: 0.6007\n",
      "Epoch 2/12\n",
      "127656/127656 [==============================] - 22s 176us/step - loss: 0.0560 - accuracy: 0.9792 - fmeasure: 0.5843 - val_loss: 0.0556 - val_accuracy: 0.9794 - val_fmeasure: 0.5827\n",
      "Epoch 3/12\n",
      "127656/127656 [==============================] - 23s 181us/step - loss: 0.0539 - accuracy: 0.9798 - fmeasure: 0.5957 - val_loss: 0.0538 - val_accuracy: 0.9794 - val_fmeasure: 0.5908\n",
      "Epoch 4/12\n",
      "127656/127656 [==============================] - 23s 178us/step - loss: 0.0527 - accuracy: 0.9801 - fmeasure: 0.6021 - val_loss: 0.0521 - val_accuracy: 0.9804 - val_fmeasure: 0.6241\n",
      "Epoch 5/12\n",
      "127656/127656 [==============================] - 23s 180us/step - loss: 0.0517 - accuracy: 0.9804 - fmeasure: 0.6164 - val_loss: 0.0522 - val_accuracy: 0.9799 - val_fmeasure: 0.6154\n",
      "Epoch 6/12\n",
      "127656/127656 [==============================] - 23s 180us/step - loss: 0.0509 - accuracy: 0.9808 - fmeasure: 0.6181 - val_loss: 0.0531 - val_accuracy: 0.9799 - val_fmeasure: 0.5910\n",
      "\n",
      "Epoch 00006: ReduceLROnPlateau reducing learning rate to 0.0024999999441206455.\n",
      "Epoch 7/12\n",
      "127656/127656 [==============================] - 23s 177us/step - loss: 0.0478 - accuracy: 0.9816 - fmeasure: 0.6354 - val_loss: 0.0513 - val_accuracy: 0.9806 - val_fmeasure: 0.6214\n",
      "Epoch 8/12\n",
      "127656/127656 [==============================] - 22s 176us/step - loss: 0.0470 - accuracy: 0.9819 - fmeasure: 0.6413 - val_loss: 0.0510 - val_accuracy: 0.9806 - val_fmeasure: 0.6237\n",
      "Epoch 9/12\n",
      "127656/127656 [==============================] - 23s 183us/step - loss: 0.0462 - accuracy: 0.9822 - fmeasure: 0.6503 - val_loss: 0.0504 - val_accuracy: 0.9808 - val_fmeasure: 0.6272\n",
      "Epoch 10/12\n",
      "127656/127656 [==============================] - 24s 188us/step - loss: 0.0456 - accuracy: 0.9824 - fmeasure: 0.6489 - val_loss: 0.0504 - val_accuracy: 0.9807 - val_fmeasure: 0.6385\n",
      "Epoch 11/12\n",
      "127656/127656 [==============================] - 23s 181us/step - loss: 0.0452 - accuracy: 0.9826 - fmeasure: 0.6586 - val_loss: 0.0504 - val_accuracy: 0.9806 - val_fmeasure: 0.6486\n",
      "\n",
      "Epoch 00011: ReduceLROnPlateau reducing learning rate to 0.0012499999720603228.\n",
      "Epoch 12/12\n",
      "127656/127656 [==============================] - 24s 185us/step - loss: 0.0428 - accuracy: 0.9833 - fmeasure: 0.6706 - val_loss: 0.0508 - val_accuracy: 0.9806 - val_fmeasure: 0.6476\n"
     ]
    },
    {
     "name": "stderr",
     "output_type": "stream",
     "text": [
      "\r",
      " 50%|█████     | 2/4 [06:37<05:34, 167.04s/it]"
     ]
    },
    {
     "name": "stdout",
     "output_type": "stream",
     "text": [
      "Train on 127656 samples, validate on 31915 samples\n",
      "Epoch 1/18\n",
      "127656/127656 [==============================] - 21s 164us/step - loss: 0.0624 - accuracy: 0.9774 - fmeasure: 0.6094 - val_loss: 0.0579 - val_accuracy: 0.9775 - val_fmeasure: 0.5564\n",
      "Epoch 2/18\n",
      "127656/127656 [==============================] - 20s 157us/step - loss: 0.0556 - accuracy: 0.9793 - fmeasure: 0.6384 - val_loss: 0.0549 - val_accuracy: 0.9791 - val_fmeasure: 0.6703\n",
      "Epoch 3/18\n",
      "127656/127656 [==============================] - 20s 154us/step - loss: 0.0537 - accuracy: 0.9800 - fmeasure: 0.6544 - val_loss: 0.0522 - val_accuracy: 0.9802 - val_fmeasure: 0.6662\n",
      "Epoch 4/18\n",
      "127656/127656 [==============================] - 20s 154us/step - loss: 0.0524 - accuracy: 0.9802 - fmeasure: 0.6605 - val_loss: 0.0539 - val_accuracy: 0.9798 - val_fmeasure: 0.6537\n",
      "Epoch 5/18\n",
      "127656/127656 [==============================] - 20s 155us/step - loss: 0.0512 - accuracy: 0.9805 - fmeasure: 0.6721 - val_loss: 0.0518 - val_accuracy: 0.9803 - val_fmeasure: 0.6531\n",
      "Epoch 6/18\n",
      "127656/127656 [==============================] - 20s 156us/step - loss: 0.0503 - accuracy: 0.9809 - fmeasure: 0.6759 - val_loss: 0.0515 - val_accuracy: 0.9804 - val_fmeasure: 0.6693\n",
      "Epoch 7/18\n",
      "127656/127656 [==============================] - 20s 157us/step - loss: 0.0496 - accuracy: 0.9811 - fmeasure: 0.6803 - val_loss: 0.0517 - val_accuracy: 0.9804 - val_fmeasure: 0.6757\n",
      "Epoch 8/18\n",
      "127656/127656 [==============================] - 20s 153us/step - loss: 0.0488 - accuracy: 0.9813 - fmeasure: 0.6871 - val_loss: 0.0545 - val_accuracy: 0.9795 - val_fmeasure: 0.6313\n",
      "\n",
      "Epoch 00008: ReduceLROnPlateau reducing learning rate to 0.0024999999441206455.\n",
      "Epoch 9/18\n",
      "127656/127656 [==============================] - 20s 159us/step - loss: 0.0459 - accuracy: 0.9822 - fmeasure: 0.7056 - val_loss: 0.0505 - val_accuracy: 0.9808 - val_fmeasure: 0.6830\n",
      "Epoch 10/18\n",
      "127656/127656 [==============================] - 20s 157us/step - loss: 0.0449 - accuracy: 0.9825 - fmeasure: 0.7103 - val_loss: 0.0511 - val_accuracy: 0.9807 - val_fmeasure: 0.6754\n",
      "Epoch 11/18\n",
      "127656/127656 [==============================] - 21s 163us/step - loss: 0.0444 - accuracy: 0.9826 - fmeasure: 0.7117 - val_loss: 0.0505 - val_accuracy: 0.9809 - val_fmeasure: 0.6770\n",
      "\n",
      "Epoch 00011: ReduceLROnPlateau reducing learning rate to 0.0012499999720603228.\n",
      "Epoch 12/18\n",
      "127656/127656 [==============================] - 21s 163us/step - loss: 0.0424 - accuracy: 0.9835 - fmeasure: 0.7259 - val_loss: 0.0501 - val_accuracy: 0.9808 - val_fmeasure: 0.6947\n",
      "Epoch 13/18\n",
      "127656/127656 [==============================] - 20s 158us/step - loss: 0.0414 - accuracy: 0.9837 - fmeasure: 0.7308 - val_loss: 0.0521 - val_accuracy: 0.9806 - val_fmeasure: 0.6692\n",
      "Epoch 14/18\n",
      "127656/127656 [==============================] - 20s 160us/step - loss: 0.0409 - accuracy: 0.9838 - fmeasure: 0.7321 - val_loss: 0.0514 - val_accuracy: 0.9806 - val_fmeasure: 0.6831\n",
      "\n",
      "Epoch 00014: ReduceLROnPlateau reducing learning rate to 0.0006249999860301614.\n",
      "Epoch 15/18\n",
      "127656/127656 [==============================] - 20s 159us/step - loss: 0.0396 - accuracy: 0.9844 - fmeasure: 0.7478 - val_loss: 0.0510 - val_accuracy: 0.9809 - val_fmeasure: 0.6870\n",
      "Epoch 16/18\n",
      "127656/127656 [==============================] - 20s 156us/step - loss: 0.0392 - accuracy: 0.9846 - fmeasure: 0.7507 - val_loss: 0.0511 - val_accuracy: 0.9809 - val_fmeasure: 0.6907\n",
      "\n",
      "Epoch 00016: ReduceLROnPlateau reducing learning rate to 0.0003124999930150807.\n",
      "Epoch 17/18\n",
      "127656/127656 [==============================] - 21s 164us/step - loss: 0.0383 - accuracy: 0.9848 - fmeasure: 0.7540 - val_loss: 0.0515 - val_accuracy: 0.9809 - val_fmeasure: 0.6895\n",
      "Epoch 18/18\n",
      "127656/127656 [==============================] - 21s 163us/step - loss: 0.0381 - accuracy: 0.9851 - fmeasure: 0.7573 - val_loss: 0.0514 - val_accuracy: 0.9810 - val_fmeasure: 0.6887\n"
     ]
    },
    {
     "name": "stderr",
     "output_type": "stream",
     "text": [
      "\r",
      " 75%|███████▌  | 3/4 [12:41<03:46, 226.41s/it]"
     ]
    },
    {
     "name": "stdout",
     "output_type": "stream",
     "text": [
      "\n",
      "Epoch 00018: ReduceLROnPlateau reducing learning rate to 0.00015624999650754035.\n",
      "Train on 127656 samples, validate on 31915 samples\n",
      "Epoch 1/15\n",
      "127656/127656 [==============================] - 9s 73us/step - loss: 0.0623 - accuracy: 0.9772 - fmeasure: 0.6188 - val_loss: 0.0554 - val_accuracy: 0.9788 - val_fmeasure: 0.6360\n",
      "Epoch 2/15\n",
      "127656/127656 [==============================] - 9s 69us/step - loss: 0.0551 - accuracy: 0.9793 - fmeasure: 0.6621 - val_loss: 0.0536 - val_accuracy: 0.9792 - val_fmeasure: 0.6426\n",
      "Epoch 3/15\n",
      "127656/127656 [==============================] - 9s 70us/step - loss: 0.0527 - accuracy: 0.9799 - fmeasure: 0.6748 - val_loss: 0.0527 - val_accuracy: 0.9793 - val_fmeasure: 0.6870\n",
      "Epoch 4/15\n",
      "127656/127656 [==============================] - 9s 68us/step - loss: 0.0514 - accuracy: 0.9805 - fmeasure: 0.6852 - val_loss: 0.0512 - val_accuracy: 0.9805 - val_fmeasure: 0.6905\n",
      "Epoch 5/15\n",
      "127656/127656 [==============================] - 9s 70us/step - loss: 0.0502 - accuracy: 0.9808 - fmeasure: 0.6931 - val_loss: 0.0521 - val_accuracy: 0.9805 - val_fmeasure: 0.6785\n",
      "Epoch 6/15\n",
      "127656/127656 [==============================] - 9s 69us/step - loss: 0.0496 - accuracy: 0.9810 - fmeasure: 0.6970 - val_loss: 0.0504 - val_accuracy: 0.9807 - val_fmeasure: 0.6933\n",
      "Epoch 7/15\n",
      "127656/127656 [==============================] - 9s 69us/step - loss: 0.0483 - accuracy: 0.9814 - fmeasure: 0.7049 - val_loss: 0.0511 - val_accuracy: 0.9803 - val_fmeasure: 0.6811\n",
      "Epoch 8/15\n",
      "127656/127656 [==============================] - 9s 71us/step - loss: 0.0476 - accuracy: 0.9815 - fmeasure: 0.7062 - val_loss: 0.0514 - val_accuracy: 0.9804 - val_fmeasure: 0.6919\n",
      "\n",
      "Epoch 00008: ReduceLROnPlateau reducing learning rate to 0.0024999999441206455.\n",
      "Epoch 9/15\n",
      "127656/127656 [==============================] - 9s 70us/step - loss: 0.0445 - accuracy: 0.9827 - fmeasure: 0.7287 - val_loss: 0.0500 - val_accuracy: 0.9808 - val_fmeasure: 0.7052\n",
      "Epoch 10/15\n",
      "127656/127656 [==============================] - 9s 69us/step - loss: 0.0433 - accuracy: 0.9831 - fmeasure: 0.7372 - val_loss: 0.0502 - val_accuracy: 0.9808 - val_fmeasure: 0.7103\n",
      "Epoch 11/15\n",
      "127656/127656 [==============================] - 9s 72us/step - loss: 0.0428 - accuracy: 0.9832 - fmeasure: 0.7400 - val_loss: 0.0507 - val_accuracy: 0.9806 - val_fmeasure: 0.6960\n",
      "\n",
      "Epoch 00011: ReduceLROnPlateau reducing learning rate to 0.0012499999720603228.\n",
      "Epoch 12/15\n",
      "127656/127656 [==============================] - 9s 69us/step - loss: 0.0404 - accuracy: 0.9842 - fmeasure: 0.7574 - val_loss: 0.0503 - val_accuracy: 0.9808 - val_fmeasure: 0.7055\n",
      "Epoch 13/15\n",
      "127656/127656 [==============================] - 9s 68us/step - loss: 0.0394 - accuracy: 0.9844 - fmeasure: 0.7620 - val_loss: 0.0505 - val_accuracy: 0.9808 - val_fmeasure: 0.7014\n",
      "\n",
      "Epoch 00013: ReduceLROnPlateau reducing learning rate to 0.0006249999860301614.\n",
      "Epoch 14/15\n",
      "127656/127656 [==============================] - 9s 69us/step - loss: 0.0382 - accuracy: 0.9850 - fmeasure: 0.7696 - val_loss: 0.0513 - val_accuracy: 0.9808 - val_fmeasure: 0.7004\n",
      "Epoch 15/15\n",
      "127656/127656 [==============================] - 9s 68us/step - loss: 0.0377 - accuracy: 0.9851 - fmeasure: 0.7714 - val_loss: 0.0512 - val_accuracy: 0.9809 - val_fmeasure: 0.7032\n"
     ]
    },
    {
     "name": "stderr",
     "output_type": "stream",
     "text": [
      "100%|██████████| 4/4 [14:56<00:00, 224.13s/it]"
     ]
    },
    {
     "name": "stdout",
     "output_type": "stream",
     "text": [
      "\n",
      "Epoch 00015: ReduceLROnPlateau reducing learning rate to 0.0003124999930150807.\n"
     ]
    },
    {
     "name": "stderr",
     "output_type": "stream",
     "text": [
      "\n"
     ]
    }
   ],
   "source": [
    "# Define the scan\n",
    "scan_object = talos.Scan(x=x_train,\n",
    "                         y=y_train,\n",
    "                         x_val=x_val,\n",
    "                         y_val=y_val,\n",
    "                         params=params,\n",
    "                         reduction_method='forrest',\n",
    "                         reduction_metric='val_fmeasure',\n",
    "                         performance_target=['val_fmeasure', 0.8, False],\n",
    "                         model=toxic_clf,\n",
    "                         experiment_name='toxic_comments',\n",
    "                         fraction_limit=.01)"
   ]
  },
  {
   "cell_type": "markdown",
   "metadata": {},
   "source": [
    "### Dopo la scan osserviamo i risultati"
   ]
  },
  {
   "cell_type": "code",
   "execution_count": 10,
   "metadata": {},
   "outputs": [
    {
     "name": "stdout",
     "output_type": "stream",
     "text": [
      "Check values:\n",
      "\n",
      "   round_epochs  val_loss  val_accuracy  val_fmeasure      loss  accuracy  \\\n",
      "0            18  0.051027      0.981127      0.714253  0.036411  0.985661   \n",
      "1            12  0.050806      0.980626      0.647561  0.042782  0.983317   \n",
      "2            18  0.051399      0.980971      0.688748  0.038085  0.985073   \n",
      "3            15  0.051183      0.980861      0.703184  0.037709  0.985068   \n",
      "\n",
      "   fmeasure        lr  batch_size  first_hidden  round_epochs  second_hidden  \\\n",
      "0  0.781102  0.000156         128           400            18            100   \n",
      "1  0.670621  0.001250          32           560            12            100   \n",
      "2  0.757332  0.000312          64           768            18            300   \n",
      "3  0.771434  0.000625         128           560            15            200   \n",
      "\n",
      "   third_hidden  \n",
      "0            32  \n",
      "1            50  \n",
      "2            32  \n",
      "3            50  \n",
      "\n",
      "Entropy:\n",
      "\n",
      "       loss  accuracy  fmeasure        lr\n",
      "0  2.878770  2.890369  2.888487  2.602597\n",
      "1  2.479414  2.484905  2.483400  2.406704\n",
      "2  2.880456  2.890369  2.888569  2.640469\n",
      "3  2.698008  2.708048  2.706265  2.547056\n",
      "\n",
      "Summary:\n",
      "\n",
      "experiment_name          toxic_comments\n",
      "random_method          uniform_mersenne\n",
      "reduction_method                forrest\n",
      "reduction_interval                   50\n",
      "reduction_window                     20\n",
      "reduction_threshold                 0.2\n",
      "reduction_metric           val_fmeasure\n",
      "complete_time            01/07/20/22:52\n",
      "x_shape                   (127656, 768)\n",
      "y_shape                     (127656, 6)\n",
      "dtype: object\n"
     ]
    }
   ],
   "source": [
    "# accessing the results data frame\n",
    "print('Check values:\\n')\n",
    "print(scan_object.data.head())\n",
    "\n",
    "# accessing epoch entropy values for each round\n",
    "print('\\nEntropy:\\n')\n",
    "print(scan_object.learning_entropy)\n",
    "\n",
    "# access the summary details\n",
    "print('\\nSummary:\\n')\n",
    "print(scan_object.details)"
   ]
  },
  {
   "cell_type": "code",
   "execution_count": 11,
   "metadata": {},
   "outputs": [
    {
     "data": {
      "text/html": [
       "<div>\n",
       "<style scoped>\n",
       "    .dataframe tbody tr th:only-of-type {\n",
       "        vertical-align: middle;\n",
       "    }\n",
       "\n",
       "    .dataframe tbody tr th {\n",
       "        vertical-align: top;\n",
       "    }\n",
       "\n",
       "    .dataframe thead th {\n",
       "        text-align: right;\n",
       "    }\n",
       "</style>\n",
       "<table border=\"1\" class=\"dataframe\">\n",
       "  <thead>\n",
       "    <tr style=\"text-align: right;\">\n",
       "      <th></th>\n",
       "      <th>round_epochs</th>\n",
       "      <th>val_loss</th>\n",
       "      <th>val_accuracy</th>\n",
       "      <th>val_fmeasure</th>\n",
       "      <th>loss</th>\n",
       "      <th>accuracy</th>\n",
       "      <th>fmeasure</th>\n",
       "      <th>lr</th>\n",
       "      <th>batch_size</th>\n",
       "      <th>first_hidden</th>\n",
       "      <th>round_epochs</th>\n",
       "      <th>second_hidden</th>\n",
       "      <th>third_hidden</th>\n",
       "    </tr>\n",
       "  </thead>\n",
       "  <tbody>\n",
       "    <tr>\n",
       "      <td>0</td>\n",
       "      <td>18</td>\n",
       "      <td>0.051027</td>\n",
       "      <td>0.981127</td>\n",
       "      <td>0.714253</td>\n",
       "      <td>0.036411</td>\n",
       "      <td>0.985661</td>\n",
       "      <td>0.781102</td>\n",
       "      <td>0.000156</td>\n",
       "      <td>128</td>\n",
       "      <td>400</td>\n",
       "      <td>18</td>\n",
       "      <td>100</td>\n",
       "      <td>32</td>\n",
       "    </tr>\n",
       "    <tr>\n",
       "      <td>1</td>\n",
       "      <td>12</td>\n",
       "      <td>0.050806</td>\n",
       "      <td>0.980626</td>\n",
       "      <td>0.647561</td>\n",
       "      <td>0.042782</td>\n",
       "      <td>0.983317</td>\n",
       "      <td>0.670621</td>\n",
       "      <td>0.001250</td>\n",
       "      <td>32</td>\n",
       "      <td>560</td>\n",
       "      <td>12</td>\n",
       "      <td>100</td>\n",
       "      <td>50</td>\n",
       "    </tr>\n",
       "    <tr>\n",
       "      <td>2</td>\n",
       "      <td>18</td>\n",
       "      <td>0.051399</td>\n",
       "      <td>0.980971</td>\n",
       "      <td>0.688748</td>\n",
       "      <td>0.038085</td>\n",
       "      <td>0.985073</td>\n",
       "      <td>0.757332</td>\n",
       "      <td>0.000312</td>\n",
       "      <td>64</td>\n",
       "      <td>768</td>\n",
       "      <td>18</td>\n",
       "      <td>300</td>\n",
       "      <td>32</td>\n",
       "    </tr>\n",
       "    <tr>\n",
       "      <td>3</td>\n",
       "      <td>15</td>\n",
       "      <td>0.051183</td>\n",
       "      <td>0.980861</td>\n",
       "      <td>0.703184</td>\n",
       "      <td>0.037709</td>\n",
       "      <td>0.985068</td>\n",
       "      <td>0.771434</td>\n",
       "      <td>0.000625</td>\n",
       "      <td>128</td>\n",
       "      <td>560</td>\n",
       "      <td>15</td>\n",
       "      <td>200</td>\n",
       "      <td>50</td>\n",
       "    </tr>\n",
       "  </tbody>\n",
       "</table>\n",
       "</div>"
      ],
      "text/plain": [
       "   round_epochs  val_loss  val_accuracy  val_fmeasure      loss  accuracy  \\\n",
       "0            18  0.051027      0.981127      0.714253  0.036411  0.985661   \n",
       "1            12  0.050806      0.980626      0.647561  0.042782  0.983317   \n",
       "2            18  0.051399      0.980971      0.688748  0.038085  0.985073   \n",
       "3            15  0.051183      0.980861      0.703184  0.037709  0.985068   \n",
       "\n",
       "   fmeasure        lr  batch_size  first_hidden  round_epochs  second_hidden  \\\n",
       "0  0.781102  0.000156         128           400            18            100   \n",
       "1  0.670621  0.001250          32           560            12            100   \n",
       "2  0.757332  0.000312          64           768            18            300   \n",
       "3  0.771434  0.000625         128           560            15            200   \n",
       "\n",
       "   third_hidden  \n",
       "0            32  \n",
       "1            50  \n",
       "2            32  \n",
       "3            50  "
      ]
     },
     "execution_count": 11,
     "metadata": {},
     "output_type": "execute_result"
    }
   ],
   "source": [
    "# Analyze scan object\n",
    "analyze_object = talos.Analyze(scan_object)\n",
    "# Results\n",
    "analyze_object.data"
   ]
  },
  {
   "cell_type": "markdown",
   "metadata": {},
   "source": [
    "### Osserviamo i risultati ottenuti in termine di max fmeasure, validation fmeasure e accuracy"
   ]
  },
  {
   "cell_type": "code",
   "execution_count": 24,
   "metadata": {},
   "outputs": [
    {
     "name": "stdout",
     "output_type": "stream",
     "text": [
      "highest val accuracy:  0.9811274409294128\n",
      "highest val fmeasure:  0.7142529487609863\n",
      "highest fmeasure:  0.7811022996902466\n",
      "Best params:  [[1.80000000e+01 1.80000000e+01 3.20000000e+01 1.56249997e-04\n",
      "  4.00000000e+02 1.28000000e+02 7.81102300e-01 1.00000000e+02\n",
      "  0.00000000e+00]\n",
      " [1.50000000e+01 1.50000000e+01 5.00000000e+01 6.24999986e-04\n",
      "  5.60000000e+02 1.28000000e+02 7.71433651e-01 2.00000000e+02\n",
      "  1.00000000e+00]\n",
      " [1.80000000e+01 1.80000000e+01 3.20000000e+01 3.12499993e-04\n",
      "  7.68000000e+02 6.40000000e+01 7.57332206e-01 3.00000000e+02\n",
      "  2.00000000e+00]\n",
      " [1.20000000e+01 1.20000000e+01 5.00000000e+01 1.24999997e-03\n",
      "  5.60000000e+02 3.20000000e+01 6.70621276e-01 1.00000000e+02\n",
      "  3.00000000e+00]]\n"
     ]
    }
   ],
   "source": [
    "# get the highest result for important metrics\n",
    "print(\"highest val accuracy: \",analyze_object.high('val_accuracy'))\n",
    "print(\"highest val fmeasure: \",analyze_object.high('val_fmeasure'))\n",
    "print(\"highest fmeasure: \", analyze_object.high('fmeasure'))\n"
   ]
  },
  {
   "cell_type": "markdown",
   "metadata": {},
   "source": [
    "### Ovviamente l'accuracy è alta, 98% rispetto ad una numerosità del 89% della classe di maggioranza vuol dire che il nostro modello sta facendo bene. \n",
    "### Osserviamo ora alcune analisi per capire come comportarci"
   ]
  },
  {
   "cell_type": "code",
   "execution_count": 29,
   "metadata": {},
   "outputs": [
    {
     "data": {
      "image/png": "[encoded data removed]",
      "text/plain": [
       "<Figure size 684x684 with 2 Axes>"
      ]
     },
     "metadata": {},
     "output_type": "display_data"
    }
   ],
   "source": [
    "# heatmap correlation\n",
    "analyze_object.plot_corr('val_fmeasure', ['loss', 'val_loss', 'accuracy', 'val_accuracy'])"
   ]
  },
  {
   "cell_type": "markdown",
   "metadata": {},
   "source": [
    "### Possiamo osservare come val_fmeasure sia direttamente proporzionale al numero di epoche e alla dimensione di batch. Inoltre è inversamente proporzionale alla dimensione del primo hidden layer, e al learning rate. Infine è circa neutro a quella del secondo e del terzo hidden.\n",
    "### Cosa vuol dire? Beh, che è possibile ridurre lo spazio di ricerca andando a rimuovere dal dict le epoche minori, le batch minori, le dimensioni dei layer maggiori, e magari iniziare il LR Reducer con un learning rate più basso."
   ]
  },
  {
   "cell_type": "markdown",
   "metadata": {},
   "source": [
    "### Controlliamo però più nel dettaglio per farci un'idea anche dei range"
   ]
  },
  {
   "cell_type": "code",
   "execution_count": 14,
   "metadata": {},
   "outputs": [
    {
     "data": {
      "image/png": "[encoded data removed]",
      "text/plain": [
       "<Figure size 720x475.2 with 1 Axes>"
      ]
     },
     "metadata": {},
     "output_type": "display_data"
    }
   ],
   "source": [
    "# Analyze the Kernel Density Estimator with validation fmeasure and the first hidden layer dimension\n",
    "analyze_object.plot_kde('first_hidden', 'val_fmeasure')\n",
    "\n",
    "# The first is x-axis, the second is y-axis"
   ]
  },
  {
   "cell_type": "markdown",
   "metadata": {},
   "source": [
    "### Perfetto, come avevamo immaginato, possiamo osservare che i valori più alti di val f1 sono stati raggiunti con 400 neuroni nel primo hidden layer. \n",
    "### Controlliamo anche il batch size."
   ]
  },
  {
   "cell_type": "code",
   "execution_count": 30,
   "metadata": {},
   "outputs": [
    {
     "data": {
      "image/png": "[encoded data removed]",
      "text/plain": [
       "<Figure size 720x475.2 with 1 Axes>"
      ]
     },
     "metadata": {},
     "output_type": "display_data"
    }
   ],
   "source": [
    "# Analyze the Kernel Density Estimator with validation fmeasure and the batch_size\n",
    "analyze_object.plot_kde('batch_size', 'val_fmeasure')"
   ]
  },
  {
   "cell_type": "markdown",
   "metadata": {},
   "source": [
    "### Benissimo, dovremmo preferire dimensioni superiori al 100: proveremo solo 128 e 256."
   ]
  },
  {
   "cell_type": "markdown",
   "metadata": {},
   "source": [
    "### Non ci è possibile controllare lo stesso grafico con il numero di epoche per via di un conflitto con una variabile pre-impostata chiamata round_epochs che abbiamo provato a sovrascrivere (nel plot della correlazione infatti compare due volte). Tuttavia, abbiamo visto come dobbiamo preferire numeri alti."
   ]
  },
  {
   "cell_type": "markdown",
   "metadata": {},
   "source": [
    "### Salviamoci il modello migliore in termini di validation fmeasure"
   ]
  },
  {
   "cell_type": "code",
   "execution_count": 18,
   "metadata": {},
   "outputs": [
    {
     "name": "stdout",
     "output_type": "stream",
     "text": [
      "Deploy package toxic_comments_deploy have been saved.\n"
     ]
    }
   ],
   "source": [
    "talos.Deploy(scan_object=scan_object, model_name='toxic_comments_deploy', metric='val_fmeasure');"
   ]
  },
  {
   "cell_type": "code",
   "execution_count": 19,
   "metadata": {},
   "outputs": [],
   "source": [
    "model = talos.Restore('toxic_comments_deploy.zip')"
   ]
  },
  {
   "cell_type": "markdown",
   "metadata": {},
   "source": [
    "### Ora possiamo testare grazie alla funzione model.predict"
   ]
  },
  {
   "cell_type": "code",
   "execution_count": 20,
   "metadata": {
    "scrolled": true
   },
   "outputs": [],
   "source": [
    "y_pred = np.round(model.model.predict(test_vectors))"
   ]
  },
  {
   "cell_type": "code",
   "execution_count": 21,
   "metadata": {},
   "outputs": [
    {
     "name": "stdout",
     "output_type": "stream",
     "text": [
      "               precision    recall  f1-score   support\n",
      "\n",
      "        toxic       0.99      0.74      0.84      6090\n",
      " severe_toxic       0.42      0.29      0.34       367\n",
      "      obscene       0.84      0.68      0.75      3691\n",
      "       threat       0.75      0.35      0.48       211\n",
      "       insult       0.80      0.61      0.69      3427\n",
      "identity_hate       0.74      0.36      0.49       712\n",
      "\n",
      "  avg / total       0.87      0.66      0.75     14498\n",
      "\n"
     ]
    }
   ],
   "source": [
    "c = classification_report(test_labels, y_pred, target_names=list_classes)\n",
    "print(c)"
   ]
  },
  {
   "cell_type": "markdown",
   "metadata": {},
   "source": [
    "### Già in dopo 4 scan random possiamo osservare un incremento notevole della micro average f1-score rispetto ai modelli precedentemente testati (base e data augmentation). Stampiamo per esteso il valore non arrotondato per avere una idea più precisa."
   ]
  },
  {
   "cell_type": "code",
   "execution_count": 35,
   "metadata": {},
   "outputs": [
    {
     "name": "stdout",
     "output_type": "stream",
     "text": [
      "Micro avg:  (0.8769500600018462, 0.6552627948682577, 0.7500690853104891, None)\n"
     ]
    }
   ],
   "source": [
    "score = precision_recall_fscore_support(test_labels, y_pred, average='micro')\n",
    "print('Micro avg: ', score)"
   ]
  },
  {
   "cell_type": "markdown",
   "metadata": {},
   "source": [
    "### Adesso che abbiamo una idea più solida sui nostri iperparametri, possiamo andare a ridurre lo spazio di ricerca ridefinendo il dict"
   ]
  },
  {
   "cell_type": "markdown",
   "metadata": {},
   "source": [
    "### Definiamo un ultima volta gli iperparametri e lanciamo la scan su più combinazioni"
   ]
  },
  {
   "cell_type": "code",
   "execution_count": 58,
   "metadata": {},
   "outputs": [],
   "source": [
    "# Define AGAIN the params dict\n",
    "params = {'first_hidden':[300, 400],\n",
    "     'batch_size': [128, 256],\n",
    "     'round_epochs': [18, 20],\n",
    "     'second_hidden': [100, 200],\n",
    "     'third_hidden': [32, 50]}"
   ]
  },
  {
   "cell_type": "markdown",
   "metadata": {},
   "source": [
    "### Per questa analisi finale utilizziamo un budget maggiore, ovvero 16 iterazioni."
   ]
  },
  {
   "cell_type": "code",
   "execution_count": 59,
   "metadata": {},
   "outputs": [
    {
     "name": "stderr",
     "output_type": "stream",
     "text": [
      "\n",
      "  0%|          | 0/16 [00:00<?, ?it/s]\u001b[A"
     ]
    },
    {
     "name": "stdout",
     "output_type": "stream",
     "text": [
      "Train on 127656 samples, validate on 31915 samples\n",
      "Epoch 1/18\n",
      "127656/127656 [==============================] - 6s 46us/step - loss: 0.0621 - accuracy: 0.9773 - fmeasure: 0.6173 - val_loss: 0.0554 - val_accuracy: 0.9792 - val_fmeasure: 0.6599\n",
      "Epoch 2/18\n",
      "127656/127656 [==============================] - 6s 46us/step - loss: 0.0555 - accuracy: 0.9794 - fmeasure: 0.6596 - val_loss: 0.0527 - val_accuracy: 0.9800 - val_fmeasure: 0.6762\n",
      "Epoch 3/18\n",
      "127656/127656 [==============================] - 6s 45us/step - loss: 0.0534 - accuracy: 0.9798 - fmeasure: 0.6710 - val_loss: 0.0529 - val_accuracy: 0.9802 - val_fmeasure: 0.6784\n",
      "Epoch 4/18\n",
      "127656/127656 [==============================] - 6s 45us/step - loss: 0.0519 - accuracy: 0.9802 - fmeasure: 0.6794 - val_loss: 0.0523 - val_accuracy: 0.9799 - val_fmeasure: 0.6710\n",
      "Epoch 5/18\n",
      "127656/127656 [==============================] - 6s 45us/step - loss: 0.0507 - accuracy: 0.9806 - fmeasure: 0.6883 - val_loss: 0.0515 - val_accuracy: 0.9803 - val_fmeasure: 0.6891\n",
      "Epoch 6/18\n",
      "127656/127656 [==============================] - 6s 46us/step - loss: 0.0499 - accuracy: 0.9810 - fmeasure: 0.6957 - val_loss: 0.0510 - val_accuracy: 0.9802 - val_fmeasure: 0.6745\n",
      "Epoch 7/18\n",
      "127656/127656 [==============================] - 6s 45us/step - loss: 0.0491 - accuracy: 0.9811 - fmeasure: 0.6981 - val_loss: 0.0506 - val_accuracy: 0.9804 - val_fmeasure: 0.7007\n",
      "Epoch 8/18\n",
      "127656/127656 [==============================] - 6s 45us/step - loss: 0.0486 - accuracy: 0.9812 - fmeasure: 0.6994 - val_loss: 0.0509 - val_accuracy: 0.9803 - val_fmeasure: 0.6833\n",
      "Epoch 9/18\n",
      "127656/127656 [==============================] - 6s 47us/step - loss: 0.0478 - accuracy: 0.9816 - fmeasure: 0.7072 - val_loss: 0.0538 - val_accuracy: 0.9796 - val_fmeasure: 0.6457\n",
      "\n",
      "Epoch 00009: ReduceLROnPlateau reducing learning rate to 0.0024999999441206455.\n",
      "Epoch 10/18\n",
      "127656/127656 [==============================] - 6s 44us/step - loss: 0.0452 - accuracy: 0.9825 - fmeasure: 0.7265 - val_loss: 0.0512 - val_accuracy: 0.9806 - val_fmeasure: 0.6897\n",
      "Epoch 11/18\n",
      "127656/127656 [==============================] - 6s 45us/step - loss: 0.0442 - accuracy: 0.9828 - fmeasure: 0.7301 - val_loss: 0.0506 - val_accuracy: 0.9808 - val_fmeasure: 0.6968\n",
      "\n",
      "Epoch 00011: ReduceLROnPlateau reducing learning rate to 0.0012499999720603228.\n",
      "Epoch 12/18\n",
      "127656/127656 [==============================] - 6s 45us/step - loss: 0.0425 - accuracy: 0.9833 - fmeasure: 0.7407 - val_loss: 0.0500 - val_accuracy: 0.9808 - val_fmeasure: 0.7030\n",
      "Epoch 13/18\n",
      "127656/127656 [==============================] - 6s 46us/step - loss: 0.0419 - accuracy: 0.9836 - fmeasure: 0.7443 - val_loss: 0.0500 - val_accuracy: 0.9806 - val_fmeasure: 0.7055\n",
      "Epoch 14/18\n",
      "127656/127656 [==============================] - 6s 46us/step - loss: 0.0416 - accuracy: 0.9838 - fmeasure: 0.7472 - val_loss: 0.0502 - val_accuracy: 0.9808 - val_fmeasure: 0.6973\n",
      "\n",
      "Epoch 00014: ReduceLROnPlateau reducing learning rate to 0.0006249999860301614.\n",
      "Epoch 15/18\n",
      "127656/127656 [==============================] - 6s 47us/step - loss: 0.0404 - accuracy: 0.9841 - fmeasure: 0.7558 - val_loss: 0.0506 - val_accuracy: 0.9808 - val_fmeasure: 0.6995\n",
      "Epoch 16/18\n",
      "127656/127656 [==============================] - 6s 45us/step - loss: 0.0400 - accuracy: 0.9843 - fmeasure: 0.7589 - val_loss: 0.0502 - val_accuracy: 0.9809 - val_fmeasure: 0.7045\n",
      "\n",
      "Epoch 00016: ReduceLROnPlateau reducing learning rate to 0.0003124999930150807.\n",
      "Epoch 17/18\n",
      "127656/127656 [==============================] - 6s 47us/step - loss: 0.0395 - accuracy: 0.9846 - fmeasure: 0.7631 - val_loss: 0.0503 - val_accuracy: 0.9808 - val_fmeasure: 0.7064\n",
      "Epoch 18/18\n",
      "127656/127656 [==============================] - 6s 45us/step - loss: 0.0391 - accuracy: 0.9846 - fmeasure: 0.7644 - val_loss: 0.0507 - val_accuracy: 0.9808 - val_fmeasure: 0.6995\n"
     ]
    },
    {
     "name": "stderr",
     "output_type": "stream",
     "text": [
      "\n",
      "  6%|▋         | 1/16 [01:45<26:25, 105.70s/it]\u001b[A"
     ]
    },
    {
     "name": "stdout",
     "output_type": "stream",
     "text": [
      "\n",
      "Epoch 00018: ReduceLROnPlateau reducing learning rate to 0.00015624999650754035.\n",
      "Train on 127656 samples, validate on 31915 samples\n",
      "Epoch 1/18\n",
      "127656/127656 [==============================] - 7s 59us/step - loss: 0.0617 - accuracy: 0.9772 - fmeasure: 0.6192 - val_loss: 0.0549 - val_accuracy: 0.9789 - val_fmeasure: 0.6367\n",
      "Epoch 2/18\n",
      "127656/127656 [==============================] - 7s 58us/step - loss: 0.0550 - accuracy: 0.9794 - fmeasure: 0.6629 - val_loss: 0.0528 - val_accuracy: 0.9798 - val_fmeasure: 0.6671\n",
      "Epoch 3/18\n",
      "127656/127656 [==============================] - 7s 56us/step - loss: 0.0530 - accuracy: 0.9801 - fmeasure: 0.6713 - val_loss: 0.0523 - val_accuracy: 0.9800 - val_fmeasure: 0.6646\n",
      "Epoch 4/18\n",
      "127656/127656 [==============================] - 7s 56us/step - loss: 0.0515 - accuracy: 0.9803 - fmeasure: 0.6798 - val_loss: 0.0507 - val_accuracy: 0.9807 - val_fmeasure: 0.6885\n",
      "Epoch 5/18\n",
      "127656/127656 [==============================] - 7s 56us/step - loss: 0.0507 - accuracy: 0.9808 - fmeasure: 0.6876 - val_loss: 0.0520 - val_accuracy: 0.9803 - val_fmeasure: 0.7052\n",
      "Epoch 6/18\n",
      "127656/127656 [==============================] - 7s 56us/step - loss: 0.0497 - accuracy: 0.9810 - fmeasure: 0.6956 - val_loss: 0.0509 - val_accuracy: 0.9804 - val_fmeasure: 0.6941\n",
      "\n",
      "Epoch 00006: ReduceLROnPlateau reducing learning rate to 0.0024999999441206455.\n",
      "Epoch 7/18\n",
      "127656/127656 [==============================] - 7s 56us/step - loss: 0.0468 - accuracy: 0.9820 - fmeasure: 0.7135 - val_loss: 0.0495 - val_accuracy: 0.9808 - val_fmeasure: 0.7070\n",
      "Epoch 8/18\n",
      "127656/127656 [==============================] - 7s 56us/step - loss: 0.0457 - accuracy: 0.9823 - fmeasure: 0.7183 - val_loss: 0.0498 - val_accuracy: 0.9809 - val_fmeasure: 0.6996\n",
      "Epoch 9/18\n",
      "127656/127656 [==============================] - 7s 56us/step - loss: 0.0450 - accuracy: 0.9824 - fmeasure: 0.7209 - val_loss: 0.0501 - val_accuracy: 0.9808 - val_fmeasure: 0.6899\n",
      "\n",
      "Epoch 00009: ReduceLROnPlateau reducing learning rate to 0.0012499999720603228.\n",
      "Epoch 10/18\n",
      "127656/127656 [==============================] - 7s 55us/step - loss: 0.0432 - accuracy: 0.9832 - fmeasure: 0.7357 - val_loss: 0.0494 - val_accuracy: 0.9810 - val_fmeasure: 0.7115\n",
      "Epoch 11/18\n",
      "127656/127656 [==============================] - 7s 55us/step - loss: 0.0426 - accuracy: 0.9833 - fmeasure: 0.7371 - val_loss: 0.0503 - val_accuracy: 0.9808 - val_fmeasure: 0.6884\n",
      "Epoch 12/18\n",
      "127656/127656 [==============================] - 7s 55us/step - loss: 0.0419 - accuracy: 0.9837 - fmeasure: 0.7453 - val_loss: 0.0498 - val_accuracy: 0.9809 - val_fmeasure: 0.6999\n",
      "\n",
      "Epoch 00012: ReduceLROnPlateau reducing learning rate to 0.0006249999860301614.\n",
      "Epoch 13/18\n",
      "127656/127656 [==============================] - 7s 55us/step - loss: 0.0405 - accuracy: 0.9841 - fmeasure: 0.7537 - val_loss: 0.0512 - val_accuracy: 0.9808 - val_fmeasure: 0.6908\n",
      "Epoch 14/18\n",
      "127656/127656 [==============================] - 7s 55us/step - loss: 0.0400 - accuracy: 0.9842 - fmeasure: 0.7546 - val_loss: 0.0502 - val_accuracy: 0.9809 - val_fmeasure: 0.6978\n",
      "\n",
      "Epoch 00014: ReduceLROnPlateau reducing learning rate to 0.0003124999930150807.\n",
      "Epoch 15/18\n",
      "127656/127656 [==============================] - 7s 55us/step - loss: 0.0391 - accuracy: 0.9846 - fmeasure: 0.7605 - val_loss: 0.0502 - val_accuracy: 0.9810 - val_fmeasure: 0.7120\n",
      "Epoch 16/18\n",
      "127656/127656 [==============================] - 7s 55us/step - loss: 0.0389 - accuracy: 0.9846 - fmeasure: 0.7637 - val_loss: 0.0502 - val_accuracy: 0.9811 - val_fmeasure: 0.7074\n",
      "\n",
      "Epoch 00016: ReduceLROnPlateau reducing learning rate to 0.00015624999650754035.\n",
      "Epoch 17/18\n",
      "127656/127656 [==============================] - 7s 55us/step - loss: 0.0384 - accuracy: 0.9849 - fmeasure: 0.7686 - val_loss: 0.0503 - val_accuracy: 0.9811 - val_fmeasure: 0.7104\n",
      "Epoch 18/18\n",
      "127656/127656 [==============================] - 7s 55us/step - loss: 0.0384 - accuracy: 0.9849 - fmeasure: 0.7673 - val_loss: 0.0507 - val_accuracy: 0.9810 - val_fmeasure: 0.7064\n"
     ]
    },
    {
     "name": "stderr",
     "output_type": "stream",
     "text": [
      "\n",
      " 12%|█▎        | 2/16 [03:54<26:17, 112.65s/it]\u001b[A"
     ]
    },
    {
     "name": "stdout",
     "output_type": "stream",
     "text": [
      "\n",
      "Epoch 00018: ReduceLROnPlateau reducing learning rate to 7.812499825377017e-05.\n",
      "Train on 127656 samples, validate on 31915 samples\n",
      "Epoch 1/20\n",
      "127656/127656 [==============================] - 4s 33us/step - loss: 0.0629 - accuracy: 0.9768 - fmeasure: 0.6283 - val_loss: 0.0545 - val_accuracy: 0.9790 - val_fmeasure: 0.6510\n",
      "Epoch 2/20\n",
      "127656/127656 [==============================] - 4s 30us/step - loss: 0.0549 - accuracy: 0.9794 - fmeasure: 0.6686 - val_loss: 0.0536 - val_accuracy: 0.9793 - val_fmeasure: 0.6503\n",
      "Epoch 3/20\n",
      "127656/127656 [==============================] - 4s 30us/step - loss: 0.0525 - accuracy: 0.9800 - fmeasure: 0.6823 - val_loss: 0.0530 - val_accuracy: 0.9798 - val_fmeasure: 0.6997\n",
      "Epoch 4/20\n",
      "127656/127656 [==============================] - 4s 30us/step - loss: 0.0516 - accuracy: 0.9805 - fmeasure: 0.6917 - val_loss: 0.0513 - val_accuracy: 0.9803 - val_fmeasure: 0.6991\n",
      "Epoch 5/20\n",
      "127656/127656 [==============================] - 4s 30us/step - loss: 0.0503 - accuracy: 0.9809 - fmeasure: 0.7004 - val_loss: 0.0512 - val_accuracy: 0.9806 - val_fmeasure: 0.7004\n",
      "Epoch 6/20\n",
      "127656/127656 [==============================] - 4s 30us/step - loss: 0.0492 - accuracy: 0.9812 - fmeasure: 0.7059 - val_loss: 0.0509 - val_accuracy: 0.9804 - val_fmeasure: 0.6853\n",
      "Epoch 7/20\n",
      "127656/127656 [==============================] - 4s 30us/step - loss: 0.0486 - accuracy: 0.9815 - fmeasure: 0.7115 - val_loss: 0.0506 - val_accuracy: 0.9802 - val_fmeasure: 0.6897\n",
      "Epoch 8/20\n",
      "127656/127656 [==============================] - 4s 30us/step - loss: 0.0477 - accuracy: 0.9817 - fmeasure: 0.7156 - val_loss: 0.0507 - val_accuracy: 0.9807 - val_fmeasure: 0.7090\n",
      "Epoch 9/20\n",
      "127656/127656 [==============================] - 4s 31us/step - loss: 0.0472 - accuracy: 0.9818 - fmeasure: 0.7171 - val_loss: 0.0507 - val_accuracy: 0.9806 - val_fmeasure: 0.7124\n",
      "\n",
      "Epoch 00009: ReduceLROnPlateau reducing learning rate to 0.0024999999441206455.\n",
      "Epoch 10/20\n",
      "127656/127656 [==============================] - 4s 30us/step - loss: 0.0443 - accuracy: 0.9828 - fmeasure: 0.7363 - val_loss: 0.0495 - val_accuracy: 0.9810 - val_fmeasure: 0.7138\n",
      "Epoch 11/20\n",
      "127656/127656 [==============================] - 4s 31us/step - loss: 0.0432 - accuracy: 0.9830 - fmeasure: 0.7414 - val_loss: 0.0508 - val_accuracy: 0.9807 - val_fmeasure: 0.6892\n",
      "Epoch 12/20\n",
      "127656/127656 [==============================] - 4s 30us/step - loss: 0.0425 - accuracy: 0.9833 - fmeasure: 0.7448 - val_loss: 0.0503 - val_accuracy: 0.9810 - val_fmeasure: 0.7071\n",
      "\n",
      "Epoch 00012: ReduceLROnPlateau reducing learning rate to 0.0012499999720603228.\n",
      "Epoch 13/20\n",
      "127656/127656 [==============================] - 4s 30us/step - loss: 0.0406 - accuracy: 0.9839 - fmeasure: 0.7570 - val_loss: 0.0500 - val_accuracy: 0.9809 - val_fmeasure: 0.7059\n",
      "Epoch 14/20\n",
      "127656/127656 [==============================] - 4s 30us/step - loss: 0.0397 - accuracy: 0.9843 - fmeasure: 0.7624 - val_loss: 0.0501 - val_accuracy: 0.9810 - val_fmeasure: 0.7148\n",
      "\n",
      "Epoch 00014: ReduceLROnPlateau reducing learning rate to 0.0006249999860301614.\n",
      "Epoch 15/20\n",
      "127656/127656 [==============================] - 4s 30us/step - loss: 0.0386 - accuracy: 0.9846 - fmeasure: 0.7680 - val_loss: 0.0510 - val_accuracy: 0.9808 - val_fmeasure: 0.7006\n",
      "Epoch 16/20\n",
      "127656/127656 [==============================] - 4s 30us/step - loss: 0.0381 - accuracy: 0.9849 - fmeasure: 0.7732 - val_loss: 0.0505 - val_accuracy: 0.9809 - val_fmeasure: 0.7080\n",
      "\n",
      "Epoch 00016: ReduceLROnPlateau reducing learning rate to 0.0003124999930150807.\n",
      "Epoch 17/20\n",
      "127656/127656 [==============================] - 4s 30us/step - loss: 0.0375 - accuracy: 0.9851 - fmeasure: 0.7775 - val_loss: 0.0507 - val_accuracy: 0.9809 - val_fmeasure: 0.7085\n",
      "Epoch 18/20\n",
      "127656/127656 [==============================] - 4s 30us/step - loss: 0.0374 - accuracy: 0.9852 - fmeasure: 0.7771 - val_loss: 0.0508 - val_accuracy: 0.9808 - val_fmeasure: 0.7109\n",
      "\n",
      "Epoch 00018: ReduceLROnPlateau reducing learning rate to 0.00015624999650754035.\n",
      "Epoch 19/20\n",
      "127656/127656 [==============================] - 4s 30us/step - loss: 0.0370 - accuracy: 0.9855 - fmeasure: 0.7834 - val_loss: 0.0508 - val_accuracy: 0.9809 - val_fmeasure: 0.7109\n",
      "Epoch 20/20\n",
      "127656/127656 [==============================] - 4s 30us/step - loss: 0.0367 - accuracy: 0.9854 - fmeasure: 0.7809 - val_loss: 0.0508 - val_accuracy: 0.9809 - val_fmeasure: 0.7124\n"
     ]
    },
    {
     "name": "stderr",
     "output_type": "stream",
     "text": [
      "\n",
      " 19%|█▉        | 3/16 [05:13<22:12, 102.47s/it]\u001b[A"
     ]
    },
    {
     "name": "stdout",
     "output_type": "stream",
     "text": [
      "\n",
      "Epoch 00020: ReduceLROnPlateau reducing learning rate to 7.812499825377017e-05.\n",
      "Train on 127656 samples, validate on 31915 samples\n",
      "Epoch 1/20\n",
      "127656/127656 [==============================] - 6s 46us/step - loss: 0.0634 - accuracy: 0.9765 - fmeasure: 0.6054 - val_loss: 0.0569 - val_accuracy: 0.9789 - val_fmeasure: 0.6481\n",
      "Epoch 2/20\n",
      "127656/127656 [==============================] - 6s 45us/step - loss: 0.0557 - accuracy: 0.9793 - fmeasure: 0.6587 - val_loss: 0.0532 - val_accuracy: 0.9796 - val_fmeasure: 0.6702\n",
      "Epoch 3/20\n",
      "127656/127656 [==============================] - 6s 45us/step - loss: 0.0533 - accuracy: 0.9799 - fmeasure: 0.6716 - val_loss: 0.0520 - val_accuracy: 0.9801 - val_fmeasure: 0.6857\n",
      "Epoch 4/20\n",
      "127656/127656 [==============================] - 6s 45us/step - loss: 0.0519 - accuracy: 0.9802 - fmeasure: 0.6795 - val_loss: 0.0522 - val_accuracy: 0.9802 - val_fmeasure: 0.6803\n",
      "Epoch 5/20\n",
      "127656/127656 [==============================] - 6s 45us/step - loss: 0.0511 - accuracy: 0.9805 - fmeasure: 0.6853 - val_loss: 0.0514 - val_accuracy: 0.9805 - val_fmeasure: 0.6913\n",
      "Epoch 6/20\n",
      "127656/127656 [==============================] - 6s 45us/step - loss: 0.0501 - accuracy: 0.9810 - fmeasure: 0.6942 - val_loss: 0.0515 - val_accuracy: 0.9802 - val_fmeasure: 0.6998\n",
      "Epoch 7/20\n",
      "127656/127656 [==============================] - 6s 45us/step - loss: 0.0494 - accuracy: 0.9812 - fmeasure: 0.7007 - val_loss: 0.0525 - val_accuracy: 0.9799 - val_fmeasure: 0.6671\n",
      "\n",
      "Epoch 00007: ReduceLROnPlateau reducing learning rate to 0.0024999999441206455.\n",
      "Epoch 8/20\n",
      "127656/127656 [==============================] - 6s 45us/step - loss: 0.0468 - accuracy: 0.9820 - fmeasure: 0.7146 - val_loss: 0.0505 - val_accuracy: 0.9808 - val_fmeasure: 0.6898\n",
      "Epoch 9/20\n",
      "127656/127656 [==============================] - 6s 45us/step - loss: 0.0456 - accuracy: 0.9824 - fmeasure: 0.7222 - val_loss: 0.0505 - val_accuracy: 0.9807 - val_fmeasure: 0.6867\n",
      "Epoch 10/20\n",
      "127656/127656 [==============================] - 6s 45us/step - loss: 0.0452 - accuracy: 0.9826 - fmeasure: 0.7261 - val_loss: 0.0504 - val_accuracy: 0.9806 - val_fmeasure: 0.6880\n",
      "\n",
      "Epoch 00010: ReduceLROnPlateau reducing learning rate to 0.0012499999720603228.\n",
      "Epoch 11/20\n",
      "127656/127656 [==============================] - 6s 45us/step - loss: 0.0432 - accuracy: 0.9832 - fmeasure: 0.7348 - val_loss: 0.0503 - val_accuracy: 0.9807 - val_fmeasure: 0.6972\n",
      "Epoch 12/20\n",
      "127656/127656 [==============================] - 6s 47us/step - loss: 0.0425 - accuracy: 0.9835 - fmeasure: 0.7420 - val_loss: 0.0504 - val_accuracy: 0.9807 - val_fmeasure: 0.6938\n",
      "Epoch 13/20\n",
      "127656/127656 [==============================] - 6s 46us/step - loss: 0.0422 - accuracy: 0.9836 - fmeasure: 0.7445 - val_loss: 0.0504 - val_accuracy: 0.9808 - val_fmeasure: 0.6993\n",
      "\n",
      "Epoch 00013: ReduceLROnPlateau reducing learning rate to 0.0006249999860301614.\n",
      "Epoch 14/20\n",
      "127656/127656 [==============================] - 6s 46us/step - loss: 0.0408 - accuracy: 0.9841 - fmeasure: 0.7531 - val_loss: 0.0507 - val_accuracy: 0.9807 - val_fmeasure: 0.6993\n",
      "Epoch 15/20\n",
      "127656/127656 [==============================] - 6s 46us/step - loss: 0.0403 - accuracy: 0.9844 - fmeasure: 0.7578 - val_loss: 0.0511 - val_accuracy: 0.9807 - val_fmeasure: 0.6985\n",
      "\n",
      "Epoch 00015: ReduceLROnPlateau reducing learning rate to 0.0003124999930150807.\n",
      "Epoch 16/20\n",
      "127656/127656 [==============================] - 6s 46us/step - loss: 0.0397 - accuracy: 0.9845 - fmeasure: 0.7606 - val_loss: 0.0512 - val_accuracy: 0.9806 - val_fmeasure: 0.6964\n",
      "Epoch 17/20\n",
      "127656/127656 [==============================] - 6s 46us/step - loss: 0.0393 - accuracy: 0.9847 - fmeasure: 0.7650 - val_loss: 0.0514 - val_accuracy: 0.9807 - val_fmeasure: 0.6954\n",
      "\n",
      "Epoch 00017: ReduceLROnPlateau reducing learning rate to 0.00015624999650754035.\n",
      "Epoch 18/20\n",
      "127656/127656 [==============================] - 6s 46us/step - loss: 0.0389 - accuracy: 0.9848 - fmeasure: 0.7648 - val_loss: 0.0512 - val_accuracy: 0.9808 - val_fmeasure: 0.6976\n",
      "Epoch 19/20\n",
      "127656/127656 [==============================] - 6s 46us/step - loss: 0.0390 - accuracy: 0.9848 - fmeasure: 0.7661 - val_loss: 0.0513 - val_accuracy: 0.9808 - val_fmeasure: 0.6991\n",
      "\n",
      "Epoch 00019: ReduceLROnPlateau reducing learning rate to 7.812499825377017e-05.\n",
      "Epoch 20/20\n",
      "127656/127656 [==============================] - 6s 46us/step - loss: 0.0386 - accuracy: 0.9848 - fmeasure: 0.7655 - val_loss: 0.0513 - val_accuracy: 0.9808 - val_fmeasure: 0.6995\n"
     ]
    },
    {
     "name": "stderr",
     "output_type": "stream",
     "text": [
      "\n",
      " 25%|██▌       | 4/16 [07:10<21:21, 106.76s/it]\u001b[A"
     ]
    },
    {
     "name": "stdout",
     "output_type": "stream",
     "text": [
      "Train on 127656 samples, validate on 31915 samples\n",
      "Epoch 1/18\n",
      "127656/127656 [==============================] - 6s 44us/step - loss: 0.0620 - accuracy: 0.9773 - fmeasure: 0.6189 - val_loss: 0.0612 - val_accuracy: 0.9771 - val_fmeasure: 0.5696\n",
      "Epoch 2/18\n",
      "127656/127656 [==============================] - 5s 42us/step - loss: 0.0554 - accuracy: 0.9793 - fmeasure: 0.6582 - val_loss: 0.0530 - val_accuracy: 0.9796 - val_fmeasure: 0.6546\n",
      "Epoch 3/18\n",
      "127656/127656 [==============================] - 5s 43us/step - loss: 0.0528 - accuracy: 0.9800 - fmeasure: 0.6749 - val_loss: 0.0543 - val_accuracy: 0.9795 - val_fmeasure: 0.6596\n",
      "Epoch 4/18\n",
      "127656/127656 [==============================] - 5s 42us/step - loss: 0.0515 - accuracy: 0.9805 - fmeasure: 0.6863 - val_loss: 0.0520 - val_accuracy: 0.9801 - val_fmeasure: 0.6717\n",
      "Epoch 5/18\n",
      "127656/127656 [==============================] - 5s 42us/step - loss: 0.0504 - accuracy: 0.9807 - fmeasure: 0.6899 - val_loss: 0.0515 - val_accuracy: 0.9801 - val_fmeasure: 0.6657\n",
      "Epoch 6/18\n",
      "127656/127656 [==============================] - 5s 43us/step - loss: 0.0494 - accuracy: 0.9811 - fmeasure: 0.6970 - val_loss: 0.0506 - val_accuracy: 0.9806 - val_fmeasure: 0.6855\n",
      "Epoch 7/18\n",
      "127656/127656 [==============================] - 5s 42us/step - loss: 0.0486 - accuracy: 0.9814 - fmeasure: 0.7031 - val_loss: 0.0506 - val_accuracy: 0.9805 - val_fmeasure: 0.6901\n",
      "Epoch 8/18\n",
      "127656/127656 [==============================] - 5s 42us/step - loss: 0.0480 - accuracy: 0.9816 - fmeasure: 0.7069 - val_loss: 0.0508 - val_accuracy: 0.9807 - val_fmeasure: 0.6943\n",
      "\n",
      "Epoch 00008: ReduceLROnPlateau reducing learning rate to 0.0024999999441206455.\n",
      "Epoch 9/18\n",
      "127656/127656 [==============================] - 5s 42us/step - loss: 0.0452 - accuracy: 0.9825 - fmeasure: 0.7230 - val_loss: 0.0499 - val_accuracy: 0.9808 - val_fmeasure: 0.6994\n",
      "Epoch 10/18\n",
      "127656/127656 [==============================] - 5s 42us/step - loss: 0.0441 - accuracy: 0.9828 - fmeasure: 0.7297 - val_loss: 0.0509 - val_accuracy: 0.9805 - val_fmeasure: 0.6762\n",
      "Epoch 11/18\n",
      "127656/127656 [==============================] - 5s 43us/step - loss: 0.0435 - accuracy: 0.9830 - fmeasure: 0.7312 - val_loss: 0.0500 - val_accuracy: 0.9808 - val_fmeasure: 0.7063\n",
      "\n",
      "Epoch 00011: ReduceLROnPlateau reducing learning rate to 0.0012499999720603228.\n",
      "Epoch 12/18\n",
      "127656/127656 [==============================] - 5s 42us/step - loss: 0.0417 - accuracy: 0.9836 - fmeasure: 0.7457 - val_loss: 0.0498 - val_accuracy: 0.9810 - val_fmeasure: 0.7065\n",
      "Epoch 13/18\n",
      "127656/127656 [==============================] - 5s 42us/step - loss: 0.0410 - accuracy: 0.9840 - fmeasure: 0.7515 - val_loss: 0.0501 - val_accuracy: 0.9809 - val_fmeasure: 0.6987\n",
      "\n",
      "Epoch 00013: ReduceLROnPlateau reducing learning rate to 0.0006249999860301614.\n",
      "Epoch 14/18\n",
      "127656/127656 [==============================] - 5s 42us/step - loss: 0.0399 - accuracy: 0.9844 - fmeasure: 0.7580 - val_loss: 0.0502 - val_accuracy: 0.9810 - val_fmeasure: 0.7040\n",
      "Epoch 15/18\n",
      "127656/127656 [==============================] - 5s 42us/step - loss: 0.0394 - accuracy: 0.9846 - fmeasure: 0.7617 - val_loss: 0.0504 - val_accuracy: 0.9809 - val_fmeasure: 0.7017\n",
      "\n",
      "Epoch 00015: ReduceLROnPlateau reducing learning rate to 0.0003124999930150807.\n",
      "Epoch 16/18\n",
      "127656/127656 [==============================] - 5s 42us/step - loss: 0.0386 - accuracy: 0.9849 - fmeasure: 0.7678 - val_loss: 0.0505 - val_accuracy: 0.9810 - val_fmeasure: 0.7016\n",
      "Epoch 17/18\n",
      "127656/127656 [==============================] - 5s 42us/step - loss: 0.0384 - accuracy: 0.9848 - fmeasure: 0.7658 - val_loss: 0.0504 - val_accuracy: 0.9810 - val_fmeasure: 0.7062\n",
      "\n",
      "Epoch 00017: ReduceLROnPlateau reducing learning rate to 0.00015624999650754035.\n",
      "Epoch 18/18\n",
      "127656/127656 [==============================] - 5s 42us/step - loss: 0.0379 - accuracy: 0.9852 - fmeasure: 0.7725 - val_loss: 0.0508 - val_accuracy: 0.9810 - val_fmeasure: 0.7023\n"
     ]
    },
    {
     "name": "stderr",
     "output_type": "stream",
     "text": [
      "\n",
      " 31%|███▏      | 5/16 [08:48<19:06, 104.22s/it]\u001b[A"
     ]
    },
    {
     "name": "stdout",
     "output_type": "stream",
     "text": [
      "Train on 127656 samples, validate on 31915 samples\n",
      "Epoch 1/20\n",
      "127656/127656 [==============================] - 6s 51us/step - loss: 0.0618 - accuracy: 0.9771 - fmeasure: 0.6206 - val_loss: 0.0555 - val_accuracy: 0.9792 - val_fmeasure: 0.6515\n",
      "Epoch 2/20\n",
      "127656/127656 [==============================] - 6s 50us/step - loss: 0.0548 - accuracy: 0.9795 - fmeasure: 0.6607 - val_loss: 0.0529 - val_accuracy: 0.9795 - val_fmeasure: 0.6723\n",
      "Epoch 3/20\n",
      "127656/127656 [==============================] - 6s 50us/step - loss: 0.0528 - accuracy: 0.9801 - fmeasure: 0.6770 - val_loss: 0.0516 - val_accuracy: 0.9802 - val_fmeasure: 0.6784\n",
      "Epoch 4/20\n",
      "127656/127656 [==============================] - 6s 50us/step - loss: 0.0516 - accuracy: 0.9805 - fmeasure: 0.6855 - val_loss: 0.0518 - val_accuracy: 0.9802 - val_fmeasure: 0.6724\n",
      "Epoch 5/20\n",
      "127656/127656 [==============================] - 6s 50us/step - loss: 0.0503 - accuracy: 0.9808 - fmeasure: 0.6909 - val_loss: 0.0511 - val_accuracy: 0.9807 - val_fmeasure: 0.7031\n",
      "Epoch 6/20\n",
      "127656/127656 [==============================] - 6s 50us/step - loss: 0.0493 - accuracy: 0.9810 - fmeasure: 0.6982 - val_loss: 0.0503 - val_accuracy: 0.9807 - val_fmeasure: 0.6922\n",
      "Epoch 7/20\n",
      "127656/127656 [==============================] - 6s 50us/step - loss: 0.0481 - accuracy: 0.9814 - fmeasure: 0.7038 - val_loss: 0.0507 - val_accuracy: 0.9808 - val_fmeasure: 0.7081\n",
      "Epoch 8/20\n",
      "127656/127656 [==============================] - 6s 50us/step - loss: 0.0474 - accuracy: 0.9817 - fmeasure: 0.7069 - val_loss: 0.0513 - val_accuracy: 0.9802 - val_fmeasure: 0.6741\n",
      "\n",
      "Epoch 00008: ReduceLROnPlateau reducing learning rate to 0.0024999999441206455.\n",
      "Epoch 9/20\n",
      "127656/127656 [==============================] - 6s 50us/step - loss: 0.0445 - accuracy: 0.9827 - fmeasure: 0.7284 - val_loss: 0.0505 - val_accuracy: 0.9806 - val_fmeasure: 0.6895\n",
      "Epoch 10/20\n",
      "127656/127656 [==============================] - 6s 50us/step - loss: 0.0436 - accuracy: 0.9831 - fmeasure: 0.7355 - val_loss: 0.0503 - val_accuracy: 0.9804 - val_fmeasure: 0.7115\n",
      "\n",
      "Epoch 00010: ReduceLROnPlateau reducing learning rate to 0.0012499999720603228.\n",
      "Epoch 11/20\n",
      "127656/127656 [==============================] - 6s 50us/step - loss: 0.0414 - accuracy: 0.9839 - fmeasure: 0.7490 - val_loss: 0.0504 - val_accuracy: 0.9809 - val_fmeasure: 0.6980\n",
      "Epoch 12/20\n",
      "127656/127656 [==============================] - 6s 50us/step - loss: 0.0406 - accuracy: 0.9841 - fmeasure: 0.7533 - val_loss: 0.0502 - val_accuracy: 0.9808 - val_fmeasure: 0.6970\n",
      "\n",
      "Epoch 00012: ReduceLROnPlateau reducing learning rate to 0.0006249999860301614.\n",
      "Epoch 13/20\n",
      "127656/127656 [==============================] - 6s 50us/step - loss: 0.0396 - accuracy: 0.9845 - fmeasure: 0.7600 - val_loss: 0.0505 - val_accuracy: 0.9810 - val_fmeasure: 0.7098\n",
      "Epoch 14/20\n",
      "127656/127656 [==============================] - 6s 50us/step - loss: 0.0389 - accuracy: 0.9848 - fmeasure: 0.7686 - val_loss: 0.0509 - val_accuracy: 0.9809 - val_fmeasure: 0.6991\n",
      "\n",
      "Epoch 00014: ReduceLROnPlateau reducing learning rate to 0.0003124999930150807.\n",
      "Epoch 15/20\n",
      "127656/127656 [==============================] - 6s 50us/step - loss: 0.0379 - accuracy: 0.9852 - fmeasure: 0.7697 - val_loss: 0.0507 - val_accuracy: 0.9810 - val_fmeasure: 0.7100\n",
      "Epoch 16/20\n",
      "127656/127656 [==============================] - 6s 50us/step - loss: 0.0380 - accuracy: 0.9850 - fmeasure: 0.7707 - val_loss: 0.0510 - val_accuracy: 0.9810 - val_fmeasure: 0.7085\n",
      "\n",
      "Epoch 00016: ReduceLROnPlateau reducing learning rate to 0.00015624999650754035.\n",
      "Epoch 17/20\n",
      "127656/127656 [==============================] - 6s 50us/step - loss: 0.0376 - accuracy: 0.9852 - fmeasure: 0.7710 - val_loss: 0.0509 - val_accuracy: 0.9809 - val_fmeasure: 0.7068\n",
      "Epoch 18/20\n",
      "127656/127656 [==============================] - 6s 50us/step - loss: 0.0373 - accuracy: 0.9854 - fmeasure: 0.7764 - val_loss: 0.0509 - val_accuracy: 0.9809 - val_fmeasure: 0.7047\n",
      "\n",
      "Epoch 00018: ReduceLROnPlateau reducing learning rate to 7.812499825377017e-05.\n",
      "Epoch 19/20\n",
      "127656/127656 [==============================] - 6s 50us/step - loss: 0.0371 - accuracy: 0.9854 - fmeasure: 0.7773 - val_loss: 0.0512 - val_accuracy: 0.9810 - val_fmeasure: 0.7087\n",
      "Epoch 20/20\n",
      "127656/127656 [==============================] - 6s 50us/step - loss: 0.0369 - accuracy: 0.9855 - fmeasure: 0.7778 - val_loss: 0.0514 - val_accuracy: 0.9809 - val_fmeasure: 0.7039\n"
     ]
    },
    {
     "name": "stderr",
     "output_type": "stream",
     "text": [
      "\n",
      " 38%|███▊      | 6/16 [10:56<18:33, 111.37s/it]\u001b[A"
     ]
    },
    {
     "name": "stdout",
     "output_type": "stream",
     "text": [
      "\n",
      "Epoch 00020: ReduceLROnPlateau reducing learning rate to 3.9062499126885086e-05.\n",
      "Train on 127656 samples, validate on 31915 samples\n",
      "Epoch 1/20\n",
      "127656/127656 [==============================] - 6s 43us/step - loss: 0.0614 - accuracy: 0.9773 - fmeasure: 0.6268 - val_loss: 0.0554 - val_accuracy: 0.9790 - val_fmeasure: 0.6627\n",
      "Epoch 2/20\n",
      "127656/127656 [==============================] - 5s 42us/step - loss: 0.0550 - accuracy: 0.9793 - fmeasure: 0.6613 - val_loss: 0.0540 - val_accuracy: 0.9798 - val_fmeasure: 0.6789\n",
      "Epoch 3/20\n",
      "127656/127656 [==============================] - 5s 42us/step - loss: 0.0528 - accuracy: 0.9801 - fmeasure: 0.6765 - val_loss: 0.0537 - val_accuracy: 0.9793 - val_fmeasure: 0.6428\n",
      "Epoch 4/20\n",
      "127656/127656 [==============================] - 5s 43us/step - loss: 0.0512 - accuracy: 0.9805 - fmeasure: 0.6877 - val_loss: 0.0512 - val_accuracy: 0.9804 - val_fmeasure: 0.6788\n",
      "Epoch 5/20\n",
      "127656/127656 [==============================] - 6s 43us/step - loss: 0.0500 - accuracy: 0.9808 - fmeasure: 0.6929 - val_loss: 0.0510 - val_accuracy: 0.9805 - val_fmeasure: 0.6946\n",
      "Epoch 6/20\n",
      "127656/127656 [==============================] - 6s 45us/step - loss: 0.0491 - accuracy: 0.9812 - fmeasure: 0.7013 - val_loss: 0.0519 - val_accuracy: 0.9801 - val_fmeasure: 0.6784\n",
      "Epoch 7/20\n",
      "127656/127656 [==============================] - 5s 43us/step - loss: 0.0482 - accuracy: 0.9816 - fmeasure: 0.7098 - val_loss: 0.0507 - val_accuracy: 0.9808 - val_fmeasure: 0.6879\n",
      "Epoch 8/20\n",
      "127656/127656 [==============================] - 5s 42us/step - loss: 0.0478 - accuracy: 0.9815 - fmeasure: 0.7071 - val_loss: 0.0503 - val_accuracy: 0.9802 - val_fmeasure: 0.6910\n",
      "Epoch 9/20\n",
      "127656/127656 [==============================] - 5s 42us/step - loss: 0.0468 - accuracy: 0.9820 - fmeasure: 0.7141 - val_loss: 0.0506 - val_accuracy: 0.9803 - val_fmeasure: 0.6756\n",
      "Epoch 10/20\n",
      "127656/127656 [==============================] - 5s 42us/step - loss: 0.0465 - accuracy: 0.9820 - fmeasure: 0.7168 - val_loss: 0.0511 - val_accuracy: 0.9804 - val_fmeasure: 0.6817\n",
      "\n",
      "Epoch 00010: ReduceLROnPlateau reducing learning rate to 0.0024999999441206455.\n",
      "Epoch 11/20\n",
      "127656/127656 [==============================] - 5s 42us/step - loss: 0.0435 - accuracy: 0.9831 - fmeasure: 0.7373 - val_loss: 0.0500 - val_accuracy: 0.9809 - val_fmeasure: 0.7109\n",
      "Epoch 12/20\n",
      "127656/127656 [==============================] - 5s 42us/step - loss: 0.0424 - accuracy: 0.9835 - fmeasure: 0.7426 - val_loss: 0.0509 - val_accuracy: 0.9806 - val_fmeasure: 0.6932\n",
      "Epoch 13/20\n",
      "127656/127656 [==============================] - 5s 42us/step - loss: 0.0420 - accuracy: 0.9836 - fmeasure: 0.7449 - val_loss: 0.0506 - val_accuracy: 0.9810 - val_fmeasure: 0.7050\n",
      "\n",
      "Epoch 00013: ReduceLROnPlateau reducing learning rate to 0.0012499999720603228.\n",
      "Epoch 14/20\n",
      "127656/127656 [==============================] - 5s 42us/step - loss: 0.0401 - accuracy: 0.9843 - fmeasure: 0.7552 - val_loss: 0.0505 - val_accuracy: 0.9809 - val_fmeasure: 0.7080\n",
      "Epoch 15/20\n",
      "127656/127656 [==============================] - 5s 42us/step - loss: 0.0394 - accuracy: 0.9847 - fmeasure: 0.7649 - val_loss: 0.0506 - val_accuracy: 0.9810 - val_fmeasure: 0.7101\n",
      "\n",
      "Epoch 00015: ReduceLROnPlateau reducing learning rate to 0.0006249999860301614.\n",
      "Epoch 16/20\n",
      "127656/127656 [==============================] - 5s 42us/step - loss: 0.0380 - accuracy: 0.9851 - fmeasure: 0.7708 - val_loss: 0.0506 - val_accuracy: 0.9809 - val_fmeasure: 0.7116\n",
      "Epoch 17/20\n",
      "127656/127656 [==============================] - 5s 42us/step - loss: 0.0375 - accuracy: 0.9853 - fmeasure: 0.7747 - val_loss: 0.0514 - val_accuracy: 0.9809 - val_fmeasure: 0.6977\n",
      "\n",
      "Epoch 00017: ReduceLROnPlateau reducing learning rate to 0.0003124999930150807.\n",
      "Epoch 18/20\n",
      "127656/127656 [==============================] - 5s 42us/step - loss: 0.0371 - accuracy: 0.9854 - fmeasure: 0.7779 - val_loss: 0.0513 - val_accuracy: 0.9810 - val_fmeasure: 0.7041\n",
      "Epoch 19/20\n",
      "127656/127656 [==============================] - 5s 42us/step - loss: 0.0368 - accuracy: 0.9856 - fmeasure: 0.7784 - val_loss: 0.0514 - val_accuracy: 0.9810 - val_fmeasure: 0.7038\n",
      "\n",
      "Epoch 00019: ReduceLROnPlateau reducing learning rate to 0.00015624999650754035.\n",
      "Epoch 20/20\n",
      "127656/127656 [==============================] - 5s 42us/step - loss: 0.0365 - accuracy: 0.9856 - fmeasure: 0.7788 - val_loss: 0.0512 - val_accuracy: 0.9810 - val_fmeasure: 0.7111\n"
     ]
    },
    {
     "name": "stderr",
     "output_type": "stream",
     "text": [
      "\n",
      " 44%|████▍     | 7/16 [12:45<16:36, 110.74s/it]\u001b[A"
     ]
    },
    {
     "name": "stdout",
     "output_type": "stream",
     "text": [
      "Train on 127656 samples, validate on 31915 samples\n",
      "Epoch 1/18\n",
      "127656/127656 [==============================] - 6s 47us/step - loss: 0.0619 - accuracy: 0.9770 - fmeasure: 0.6224 - val_loss: 0.0554 - val_accuracy: 0.9789 - val_fmeasure: 0.6420\n",
      "Epoch 2/18\n",
      "127656/127656 [==============================] - 6s 46us/step - loss: 0.0550 - accuracy: 0.9794 - fmeasure: 0.6628 - val_loss: 0.0539 - val_accuracy: 0.9796 - val_fmeasure: 0.6877\n",
      "Epoch 3/18\n",
      "127656/127656 [==============================] - 6s 46us/step - loss: 0.0528 - accuracy: 0.9800 - fmeasure: 0.6748 - val_loss: 0.0531 - val_accuracy: 0.9799 - val_fmeasure: 0.6962\n",
      "Epoch 4/18\n",
      "127656/127656 [==============================] - 6s 46us/step - loss: 0.0519 - accuracy: 0.9803 - fmeasure: 0.6810 - val_loss: 0.0518 - val_accuracy: 0.9803 - val_fmeasure: 0.6873\n",
      "Epoch 5/18\n",
      "127656/127656 [==============================] - 6s 46us/step - loss: 0.0501 - accuracy: 0.9810 - fmeasure: 0.6947 - val_loss: 0.0515 - val_accuracy: 0.9802 - val_fmeasure: 0.6746\n",
      "Epoch 6/18\n",
      "127656/127656 [==============================] - 6s 46us/step - loss: 0.0495 - accuracy: 0.9811 - fmeasure: 0.6982 - val_loss: 0.0502 - val_accuracy: 0.9807 - val_fmeasure: 0.6971\n",
      "Epoch 7/18\n",
      "127656/127656 [==============================] - 6s 46us/step - loss: 0.0490 - accuracy: 0.9813 - fmeasure: 0.7011 - val_loss: 0.0517 - val_accuracy: 0.9803 - val_fmeasure: 0.6698\n",
      "Epoch 8/18\n",
      "127656/127656 [==============================] - 6s 46us/step - loss: 0.0479 - accuracy: 0.9815 - fmeasure: 0.7061 - val_loss: 0.0518 - val_accuracy: 0.9804 - val_fmeasure: 0.6867\n",
      "\n",
      "Epoch 00008: ReduceLROnPlateau reducing learning rate to 0.0024999999441206455.\n",
      "Epoch 9/18\n",
      "127656/127656 [==============================] - 6s 46us/step - loss: 0.0451 - accuracy: 0.9825 - fmeasure: 0.7239 - val_loss: 0.0500 - val_accuracy: 0.9808 - val_fmeasure: 0.6977\n",
      "Epoch 10/18\n",
      "127656/127656 [==============================] - 6s 45us/step - loss: 0.0442 - accuracy: 0.9829 - fmeasure: 0.7319 - val_loss: 0.0509 - val_accuracy: 0.9805 - val_fmeasure: 0.6769\n",
      "Epoch 11/18\n",
      "127656/127656 [==============================] - 6s 45us/step - loss: 0.0437 - accuracy: 0.9830 - fmeasure: 0.7350 - val_loss: 0.0492 - val_accuracy: 0.9809 - val_fmeasure: 0.7116\n",
      "Epoch 12/18\n",
      "127656/127656 [==============================] - 6s 46us/step - loss: 0.0429 - accuracy: 0.9833 - fmeasure: 0.7403 - val_loss: 0.0512 - val_accuracy: 0.9804 - val_fmeasure: 0.6859\n",
      "Epoch 13/18\n",
      "127656/127656 [==============================] - 6s 46us/step - loss: 0.0424 - accuracy: 0.9835 - fmeasure: 0.7425 - val_loss: 0.0502 - val_accuracy: 0.9808 - val_fmeasure: 0.6986\n",
      "\n",
      "Epoch 00013: ReduceLROnPlateau reducing learning rate to 0.0012499999720603228.\n",
      "Epoch 14/18\n",
      "127656/127656 [==============================] - 6s 45us/step - loss: 0.0406 - accuracy: 0.9840 - fmeasure: 0.7531 - val_loss: 0.0510 - val_accuracy: 0.9808 - val_fmeasure: 0.6959\n",
      "Epoch 15/18\n",
      "127656/127656 [==============================] - 6s 45us/step - loss: 0.0399 - accuracy: 0.9844 - fmeasure: 0.7580 - val_loss: 0.0502 - val_accuracy: 0.9808 - val_fmeasure: 0.7061\n",
      "\n",
      "Epoch 00015: ReduceLROnPlateau reducing learning rate to 0.0006249999860301614.\n",
      "Epoch 16/18\n",
      "127656/127656 [==============================] - 6s 45us/step - loss: 0.0387 - accuracy: 0.9849 - fmeasure: 0.7685 - val_loss: 0.0502 - val_accuracy: 0.9810 - val_fmeasure: 0.7103\n",
      "Epoch 17/18\n",
      "127656/127656 [==============================] - 6s 45us/step - loss: 0.0380 - accuracy: 0.9850 - fmeasure: 0.7712 - val_loss: 0.0510 - val_accuracy: 0.9808 - val_fmeasure: 0.7002\n",
      "\n",
      "Epoch 00017: ReduceLROnPlateau reducing learning rate to 0.0003124999930150807.\n",
      "Epoch 18/18\n",
      "127656/127656 [==============================] - 6s 45us/step - loss: 0.0375 - accuracy: 0.9852 - fmeasure: 0.7733 - val_loss: 0.0514 - val_accuracy: 0.9808 - val_fmeasure: 0.7024\n"
     ]
    },
    {
     "name": "stderr",
     "output_type": "stream",
     "text": [
      "\n",
      " 50%|█████     | 8/16 [14:31<14:33, 109.20s/it]\u001b[A"
     ]
    },
    {
     "name": "stdout",
     "output_type": "stream",
     "text": [
      "Train on 127656 samples, validate on 31915 samples\n",
      "Epoch 1/20\n",
      "127656/127656 [==============================] - 6s 44us/step - loss: 0.0623 - accuracy: 0.9771 - fmeasure: 0.6258 - val_loss: 0.0556 - val_accuracy: 0.9785 - val_fmeasure: 0.6658\n",
      "Epoch 2/20\n",
      "127656/127656 [==============================] - 5s 43us/step - loss: 0.0556 - accuracy: 0.9791 - fmeasure: 0.6588 - val_loss: 0.0549 - val_accuracy: 0.9796 - val_fmeasure: 0.6491\n",
      "Epoch 3/20\n",
      "127656/127656 [==============================] - 5s 43us/step - loss: 0.0531 - accuracy: 0.9799 - fmeasure: 0.6743 - val_loss: 0.0520 - val_accuracy: 0.9802 - val_fmeasure: 0.6978\n",
      "Epoch 4/20\n",
      "127656/127656 [==============================] - 5s 43us/step - loss: 0.0516 - accuracy: 0.9805 - fmeasure: 0.6823 - val_loss: 0.0512 - val_accuracy: 0.9804 - val_fmeasure: 0.6898\n",
      "Epoch 5/20\n",
      "127656/127656 [==============================] - 5s 43us/step - loss: 0.0507 - accuracy: 0.9808 - fmeasure: 0.6878 - val_loss: 0.0517 - val_accuracy: 0.9805 - val_fmeasure: 0.7082\n",
      "Epoch 6/20\n",
      "127656/127656 [==============================] - 5s 43us/step - loss: 0.0497 - accuracy: 0.9810 - fmeasure: 0.6949 - val_loss: 0.0509 - val_accuracy: 0.9805 - val_fmeasure: 0.6886\n",
      "Epoch 7/20\n",
      "127656/127656 [==============================] - 6s 45us/step - loss: 0.0489 - accuracy: 0.9813 - fmeasure: 0.6997 - val_loss: 0.0508 - val_accuracy: 0.9803 - val_fmeasure: 0.6892\n",
      "Epoch 8/20\n",
      "127656/127656 [==============================] - 6s 44us/step - loss: 0.0480 - accuracy: 0.9816 - fmeasure: 0.7077 - val_loss: 0.0530 - val_accuracy: 0.9797 - val_fmeasure: 0.6537\n",
      "\n",
      "Epoch 00008: ReduceLROnPlateau reducing learning rate to 0.0024999999441206455.\n",
      "Epoch 9/20\n",
      "127656/127656 [==============================] - 6s 46us/step - loss: 0.0455 - accuracy: 0.9824 - fmeasure: 0.7211 - val_loss: 0.0514 - val_accuracy: 0.9804 - val_fmeasure: 0.6717\n",
      "Epoch 10/20\n",
      "127656/127656 [==============================] - 6s 45us/step - loss: 0.0445 - accuracy: 0.9829 - fmeasure: 0.7302 - val_loss: 0.0496 - val_accuracy: 0.9810 - val_fmeasure: 0.7074\n",
      "Epoch 11/20\n",
      "127656/127656 [==============================] - 6s 43us/step - loss: 0.0439 - accuracy: 0.9830 - fmeasure: 0.7341 - val_loss: 0.0502 - val_accuracy: 0.9805 - val_fmeasure: 0.6850\n",
      "Epoch 12/20\n",
      "127656/127656 [==============================] - 5s 43us/step - loss: 0.0435 - accuracy: 0.9832 - fmeasure: 0.7386 - val_loss: 0.0504 - val_accuracy: 0.9806 - val_fmeasure: 0.6972\n",
      "\n",
      "Epoch 00012: ReduceLROnPlateau reducing learning rate to 0.0012499999720603228.\n",
      "Epoch 13/20\n",
      "127656/127656 [==============================] - 5s 43us/step - loss: 0.0415 - accuracy: 0.9837 - fmeasure: 0.7453 - val_loss: 0.0501 - val_accuracy: 0.9811 - val_fmeasure: 0.7080\n",
      "Epoch 14/20\n",
      "127656/127656 [==============================] - 5s 43us/step - loss: 0.0411 - accuracy: 0.9840 - fmeasure: 0.7507 - val_loss: 0.0503 - val_accuracy: 0.9808 - val_fmeasure: 0.7029\n",
      "\n",
      "Epoch 00014: ReduceLROnPlateau reducing learning rate to 0.0006249999860301614.\n",
      "Epoch 15/20\n",
      "127656/127656 [==============================] - 5s 43us/step - loss: 0.0396 - accuracy: 0.9846 - fmeasure: 0.7618 - val_loss: 0.0500 - val_accuracy: 0.9810 - val_fmeasure: 0.7118\n",
      "Epoch 16/20\n",
      "127656/127656 [==============================] - 5s 43us/step - loss: 0.0395 - accuracy: 0.9846 - fmeasure: 0.7635 - val_loss: 0.0502 - val_accuracy: 0.9809 - val_fmeasure: 0.7004\n",
      "\n",
      "Epoch 00016: ReduceLROnPlateau reducing learning rate to 0.0003124999930150807.\n",
      "Epoch 17/20\n",
      "127656/127656 [==============================] - 5s 43us/step - loss: 0.0385 - accuracy: 0.9849 - fmeasure: 0.7675 - val_loss: 0.0505 - val_accuracy: 0.9809 - val_fmeasure: 0.7054\n",
      "Epoch 18/20\n",
      "127656/127656 [==============================] - 5s 43us/step - loss: 0.0383 - accuracy: 0.9850 - fmeasure: 0.7694 - val_loss: 0.0506 - val_accuracy: 0.9809 - val_fmeasure: 0.7068\n",
      "\n",
      "Epoch 00018: ReduceLROnPlateau reducing learning rate to 0.00015624999650754035.\n",
      "Epoch 19/20\n",
      "127656/127656 [==============================] - 5s 43us/step - loss: 0.0382 - accuracy: 0.9851 - fmeasure: 0.7718 - val_loss: 0.0508 - val_accuracy: 0.9810 - val_fmeasure: 0.7060\n",
      "Epoch 20/20\n",
      "127656/127656 [==============================] - 5s 43us/step - loss: 0.0377 - accuracy: 0.9852 - fmeasure: 0.7754 - val_loss: 0.0506 - val_accuracy: 0.9808 - val_fmeasure: 0.7034\n"
     ]
    },
    {
     "name": "stderr",
     "output_type": "stream",
     "text": [
      "\n",
      " 56%|█████▋    | 9/16 [16:22<12:48, 109.77s/it]\u001b[A"
     ]
    },
    {
     "name": "stdout",
     "output_type": "stream",
     "text": [
      "\n",
      "Epoch 00020: ReduceLROnPlateau reducing learning rate to 7.812499825377017e-05.\n",
      "Train on 127656 samples, validate on 31915 samples\n",
      "Epoch 1/18\n",
      "127656/127656 [==============================] - 4s 32us/step - loss: 0.0637 - accuracy: 0.9762 - fmeasure: 0.6256 - val_loss: 0.0548 - val_accuracy: 0.9789 - val_fmeasure: 0.6788\n",
      "Epoch 2/18\n",
      "127656/127656 [==============================] - 4s 31us/step - loss: 0.0547 - accuracy: 0.9794 - fmeasure: 0.6696 - val_loss: 0.0565 - val_accuracy: 0.9792 - val_fmeasure: 0.6372\n",
      "Epoch 3/18\n",
      "127656/127656 [==============================] - 4s 31us/step - loss: 0.0529 - accuracy: 0.9801 - fmeasure: 0.6828 - val_loss: 0.0534 - val_accuracy: 0.9797 - val_fmeasure: 0.7026\n",
      "Epoch 4/18\n",
      "127656/127656 [==============================] - 4s 31us/step - loss: 0.0513 - accuracy: 0.9806 - fmeasure: 0.6928 - val_loss: 0.0530 - val_accuracy: 0.9798 - val_fmeasure: 0.6619\n",
      "Epoch 5/18\n",
      "127656/127656 [==============================] - 4s 31us/step - loss: 0.0505 - accuracy: 0.9806 - fmeasure: 0.6936 - val_loss: 0.0524 - val_accuracy: 0.9800 - val_fmeasure: 0.6721\n",
      "Epoch 6/18\n",
      "127656/127656 [==============================] - 4s 31us/step - loss: 0.0495 - accuracy: 0.9810 - fmeasure: 0.7045 - val_loss: 0.0503 - val_accuracy: 0.9805 - val_fmeasure: 0.7007\n",
      "Epoch 7/18\n",
      "127656/127656 [==============================] - 4s 31us/step - loss: 0.0486 - accuracy: 0.9812 - fmeasure: 0.7059 - val_loss: 0.0503 - val_accuracy: 0.9806 - val_fmeasure: 0.6904\n",
      "Epoch 8/18\n",
      "127656/127656 [==============================] - 4s 31us/step - loss: 0.0475 - accuracy: 0.9816 - fmeasure: 0.7140 - val_loss: 0.0499 - val_accuracy: 0.9807 - val_fmeasure: 0.7020\n",
      "Epoch 9/18\n",
      "127656/127656 [==============================] - 4s 31us/step - loss: 0.0469 - accuracy: 0.9819 - fmeasure: 0.7174 - val_loss: 0.0500 - val_accuracy: 0.9807 - val_fmeasure: 0.7010\n",
      "Epoch 10/18\n",
      "127656/127656 [==============================] - 4s 31us/step - loss: 0.0464 - accuracy: 0.9820 - fmeasure: 0.7203 - val_loss: 0.0522 - val_accuracy: 0.9804 - val_fmeasure: 0.6819\n",
      "\n",
      "Epoch 00010: ReduceLROnPlateau reducing learning rate to 0.0024999999441206455.\n",
      "Epoch 11/18\n",
      "127656/127656 [==============================] - 4s 31us/step - loss: 0.0435 - accuracy: 0.9830 - fmeasure: 0.7397 - val_loss: 0.0498 - val_accuracy: 0.9809 - val_fmeasure: 0.7036\n",
      "Epoch 12/18\n",
      "127656/127656 [==============================] - 4s 31us/step - loss: 0.0427 - accuracy: 0.9833 - fmeasure: 0.7459 - val_loss: 0.0502 - val_accuracy: 0.9807 - val_fmeasure: 0.7054\n",
      "\n",
      "Epoch 00012: ReduceLROnPlateau reducing learning rate to 0.0012499999720603228.\n",
      "Epoch 13/18\n",
      "127656/127656 [==============================] - 4s 31us/step - loss: 0.0410 - accuracy: 0.9838 - fmeasure: 0.7532 - val_loss: 0.0504 - val_accuracy: 0.9808 - val_fmeasure: 0.7065\n",
      "Epoch 14/18\n",
      "127656/127656 [==============================] - 4s 31us/step - loss: 0.0402 - accuracy: 0.9841 - fmeasure: 0.7595 - val_loss: 0.0504 - val_accuracy: 0.9808 - val_fmeasure: 0.7056\n",
      "\n",
      "Epoch 00014: ReduceLROnPlateau reducing learning rate to 0.0006249999860301614.\n",
      "Epoch 15/18\n",
      "127656/127656 [==============================] - 4s 31us/step - loss: 0.0390 - accuracy: 0.9846 - fmeasure: 0.7673 - val_loss: 0.0501 - val_accuracy: 0.9807 - val_fmeasure: 0.7065\n",
      "Epoch 16/18\n",
      "127656/127656 [==============================] - 4s 34us/step - loss: 0.0388 - accuracy: 0.9846 - fmeasure: 0.7689 - val_loss: 0.0505 - val_accuracy: 0.9809 - val_fmeasure: 0.7075\n",
      "\n",
      "Epoch 00016: ReduceLROnPlateau reducing learning rate to 0.0003124999930150807.\n",
      "Epoch 17/18\n",
      "127656/127656 [==============================] - 4s 33us/step - loss: 0.0380 - accuracy: 0.9850 - fmeasure: 0.7746 - val_loss: 0.0510 - val_accuracy: 0.9808 - val_fmeasure: 0.7071\n",
      "Epoch 18/18\n",
      "127656/127656 [==============================] - 4s 33us/step - loss: 0.0378 - accuracy: 0.9850 - fmeasure: 0.7763 - val_loss: 0.0509 - val_accuracy: 0.9808 - val_fmeasure: 0.7069\n"
     ]
    },
    {
     "name": "stderr",
     "output_type": "stream",
     "text": [
      "\n",
      " 62%|██████▎   | 10/16 [17:35<09:53, 98.84s/it]\u001b[A"
     ]
    },
    {
     "name": "stdout",
     "output_type": "stream",
     "text": [
      "\n",
      "Epoch 00018: ReduceLROnPlateau reducing learning rate to 0.00015624999650754035.\n",
      "Train on 127656 samples, validate on 31915 samples\n",
      "Epoch 1/20\n",
      "127656/127656 [==============================] - 7s 57us/step - loss: 0.0622 - accuracy: 0.9772 - fmeasure: 0.6256 - val_loss: 0.0549 - val_accuracy: 0.9792 - val_fmeasure: 0.6458\n",
      "Epoch 2/20\n",
      "127656/127656 [==============================] - 7s 57us/step - loss: 0.0552 - accuracy: 0.9794 - fmeasure: 0.6617 - val_loss: 0.0530 - val_accuracy: 0.9800 - val_fmeasure: 0.6711\n",
      "Epoch 3/20\n",
      "127656/127656 [==============================] - 8s 59us/step - loss: 0.0530 - accuracy: 0.9800 - fmeasure: 0.6779 - val_loss: 0.0527 - val_accuracy: 0.9801 - val_fmeasure: 0.6833\n",
      "Epoch 4/20\n",
      "127656/127656 [==============================] - 7s 56us/step - loss: 0.0518 - accuracy: 0.9804 - fmeasure: 0.6809 - val_loss: 0.0519 - val_accuracy: 0.9801 - val_fmeasure: 0.6696\n",
      "Epoch 5/20\n",
      "127656/127656 [==============================] - 7s 57us/step - loss: 0.0504 - accuracy: 0.9808 - fmeasure: 0.6923 - val_loss: 0.0510 - val_accuracy: 0.9804 - val_fmeasure: 0.6873\n",
      "Epoch 6/20\n",
      "127656/127656 [==============================] - 7s 56us/step - loss: 0.0492 - accuracy: 0.9811 - fmeasure: 0.7001 - val_loss: 0.0516 - val_accuracy: 0.9802 - val_fmeasure: 0.6673\n",
      "Epoch 7/20\n",
      "127656/127656 [==============================] - 7s 55us/step - loss: 0.0483 - accuracy: 0.9815 - fmeasure: 0.7064 - val_loss: 0.0505 - val_accuracy: 0.9808 - val_fmeasure: 0.6991\n",
      "Epoch 8/20\n",
      "127656/127656 [==============================] - 7s 55us/step - loss: 0.0477 - accuracy: 0.9817 - fmeasure: 0.7082 - val_loss: 0.0507 - val_accuracy: 0.9807 - val_fmeasure: 0.6959\n",
      "Epoch 9/20\n",
      "127656/127656 [==============================] - 7s 55us/step - loss: 0.0468 - accuracy: 0.9821 - fmeasure: 0.7191 - val_loss: 0.0507 - val_accuracy: 0.9806 - val_fmeasure: 0.7009\n",
      "\n",
      "Epoch 00009: ReduceLROnPlateau reducing learning rate to 0.0024999999441206455.\n",
      "Epoch 10/20\n",
      "127656/127656 [==============================] - 7s 55us/step - loss: 0.0440 - accuracy: 0.9830 - fmeasure: 0.7355 - val_loss: 0.0510 - val_accuracy: 0.9807 - val_fmeasure: 0.7050\n",
      "Epoch 11/20\n",
      "127656/127656 [==============================] - 7s 55us/step - loss: 0.0429 - accuracy: 0.9833 - fmeasure: 0.7405 - val_loss: 0.0504 - val_accuracy: 0.9809 - val_fmeasure: 0.7035\n",
      "Epoch 12/20\n",
      "127656/127656 [==============================] - 7s 56us/step - loss: 0.0423 - accuracy: 0.9836 - fmeasure: 0.7450 - val_loss: 0.0507 - val_accuracy: 0.9807 - val_fmeasure: 0.6984\n",
      "Epoch 13/20\n",
      "127656/127656 [==============================] - 7s 55us/step - loss: 0.0416 - accuracy: 0.9838 - fmeasure: 0.7467 - val_loss: 0.0510 - val_accuracy: 0.9807 - val_fmeasure: 0.6998\n",
      "\n",
      "Epoch 00013: ReduceLROnPlateau reducing learning rate to 0.0012499999720603228.\n",
      "Epoch 14/20\n",
      "127656/127656 [==============================] - 7s 56us/step - loss: 0.0395 - accuracy: 0.9844 - fmeasure: 0.7596 - val_loss: 0.0519 - val_accuracy: 0.9807 - val_fmeasure: 0.7012\n",
      "Epoch 15/20\n",
      "127656/127656 [==============================] - 7s 55us/step - loss: 0.0388 - accuracy: 0.9848 - fmeasure: 0.7664 - val_loss: 0.0513 - val_accuracy: 0.9807 - val_fmeasure: 0.7109\n",
      "\n",
      "Epoch 00015: ReduceLROnPlateau reducing learning rate to 0.0006249999860301614.\n",
      "Epoch 16/20\n",
      "127656/127656 [==============================] - 7s 55us/step - loss: 0.0375 - accuracy: 0.9854 - fmeasure: 0.7777 - val_loss: 0.0528 - val_accuracy: 0.9810 - val_fmeasure: 0.6995\n",
      "Epoch 17/20\n",
      "127656/127656 [==============================] - 7s 56us/step - loss: 0.0366 - accuracy: 0.9857 - fmeasure: 0.7825 - val_loss: 0.0521 - val_accuracy: 0.9809 - val_fmeasure: 0.7048\n",
      "\n",
      "Epoch 00017: ReduceLROnPlateau reducing learning rate to 0.0003124999930150807.\n",
      "Epoch 18/20\n",
      "127656/127656 [==============================] - 7s 55us/step - loss: 0.0361 - accuracy: 0.9858 - fmeasure: 0.7839 - val_loss: 0.0523 - val_accuracy: 0.9808 - val_fmeasure: 0.7099\n",
      "Epoch 19/20\n",
      "127656/127656 [==============================] - 7s 55us/step - loss: 0.0358 - accuracy: 0.9860 - fmeasure: 0.7871 - val_loss: 0.0525 - val_accuracy: 0.9808 - val_fmeasure: 0.7064\n",
      "\n",
      "Epoch 00019: ReduceLROnPlateau reducing learning rate to 0.00015624999650754035.\n",
      "Epoch 20/20\n",
      "127656/127656 [==============================] - 7s 55us/step - loss: 0.0354 - accuracy: 0.9860 - fmeasure: 0.7869 - val_loss: 0.0525 - val_accuracy: 0.9810 - val_fmeasure: 0.7089\n"
     ]
    },
    {
     "name": "stderr",
     "output_type": "stream",
     "text": [
      "\n",
      " 69%|██████▉   | 11/16 [19:59<09:21, 112.24s/it]\u001b[A"
     ]
    },
    {
     "name": "stdout",
     "output_type": "stream",
     "text": [
      "Train on 127656 samples, validate on 31915 samples\n",
      "Epoch 1/18\n",
      "127656/127656 [==============================] - 4s 31us/step - loss: 0.0627 - accuracy: 0.9771 - fmeasure: 0.6339 - val_loss: 0.0618 - val_accuracy: 0.9765 - val_fmeasure: 0.5536\n",
      "Epoch 2/18\n",
      "127656/127656 [==============================] - 4s 30us/step - loss: 0.0549 - accuracy: 0.9795 - fmeasure: 0.6707 - val_loss: 0.0548 - val_accuracy: 0.9796 - val_fmeasure: 0.6700\n",
      "Epoch 3/18\n",
      "127656/127656 [==============================] - 4s 30us/step - loss: 0.0529 - accuracy: 0.9800 - fmeasure: 0.6813 - val_loss: 0.0534 - val_accuracy: 0.9797 - val_fmeasure: 0.6681\n",
      "Epoch 4/18\n",
      "127656/127656 [==============================] - 4s 30us/step - loss: 0.0515 - accuracy: 0.9805 - fmeasure: 0.6924 - val_loss: 0.0562 - val_accuracy: 0.9790 - val_fmeasure: 0.6287\n",
      "Epoch 5/18\n",
      "127656/127656 [==============================] - 4s 30us/step - loss: 0.0506 - accuracy: 0.9806 - fmeasure: 0.6944 - val_loss: 0.0505 - val_accuracy: 0.9806 - val_fmeasure: 0.6973\n",
      "Epoch 6/18\n",
      "127656/127656 [==============================] - 4s 30us/step - loss: 0.0490 - accuracy: 0.9812 - fmeasure: 0.7060 - val_loss: 0.0509 - val_accuracy: 0.9805 - val_fmeasure: 0.6886\n",
      "Epoch 7/18\n",
      "127656/127656 [==============================] - 4s 30us/step - loss: 0.0488 - accuracy: 0.9812 - fmeasure: 0.7065 - val_loss: 0.0507 - val_accuracy: 0.9806 - val_fmeasure: 0.6874\n",
      "\n",
      "Epoch 00007: ReduceLROnPlateau reducing learning rate to 0.0024999999441206455.\n",
      "Epoch 8/18\n",
      "127656/127656 [==============================] - 4s 30us/step - loss: 0.0457 - accuracy: 0.9822 - fmeasure: 0.7270 - val_loss: 0.0496 - val_accuracy: 0.9809 - val_fmeasure: 0.7030\n",
      "Epoch 9/18\n",
      "127656/127656 [==============================] - 4s 30us/step - loss: 0.0447 - accuracy: 0.9826 - fmeasure: 0.7337 - val_loss: 0.0517 - val_accuracy: 0.9806 - val_fmeasure: 0.6865\n",
      "Epoch 10/18\n",
      "127656/127656 [==============================] - 4s 30us/step - loss: 0.0437 - accuracy: 0.9829 - fmeasure: 0.7393 - val_loss: 0.0503 - val_accuracy: 0.9809 - val_fmeasure: 0.6969\n",
      "\n",
      "Epoch 00010: ReduceLROnPlateau reducing learning rate to 0.0012499999720603228.\n",
      "Epoch 11/18\n",
      "127656/127656 [==============================] - 4s 30us/step - loss: 0.0417 - accuracy: 0.9838 - fmeasure: 0.7537 - val_loss: 0.0497 - val_accuracy: 0.9810 - val_fmeasure: 0.7138\n",
      "Epoch 12/18\n",
      "127656/127656 [==============================] - 4s 30us/step - loss: 0.0410 - accuracy: 0.9839 - fmeasure: 0.7555 - val_loss: 0.0501 - val_accuracy: 0.9809 - val_fmeasure: 0.7094\n",
      "\n",
      "Epoch 00012: ReduceLROnPlateau reducing learning rate to 0.0006249999860301614.\n",
      "Epoch 13/18\n",
      "127656/127656 [==============================] - 4s 30us/step - loss: 0.0399 - accuracy: 0.9844 - fmeasure: 0.7657 - val_loss: 0.0501 - val_accuracy: 0.9812 - val_fmeasure: 0.7114\n",
      "Epoch 14/18\n",
      "127656/127656 [==============================] - 4s 30us/step - loss: 0.0393 - accuracy: 0.9845 - fmeasure: 0.7674 - val_loss: 0.0499 - val_accuracy: 0.9809 - val_fmeasure: 0.7111\n",
      "\n",
      "Epoch 00014: ReduceLROnPlateau reducing learning rate to 0.0003124999930150807.\n",
      "Epoch 15/18\n",
      "127656/127656 [==============================] - 4s 30us/step - loss: 0.0386 - accuracy: 0.9850 - fmeasure: 0.7749 - val_loss: 0.0506 - val_accuracy: 0.9811 - val_fmeasure: 0.7088\n",
      "Epoch 16/18\n",
      "127656/127656 [==============================] - 4s 30us/step - loss: 0.0383 - accuracy: 0.9849 - fmeasure: 0.7745 - val_loss: 0.0502 - val_accuracy: 0.9810 - val_fmeasure: 0.7107\n",
      "\n",
      "Epoch 00016: ReduceLROnPlateau reducing learning rate to 0.00015624999650754035.\n",
      "Epoch 17/18\n",
      "127656/127656 [==============================] - 4s 30us/step - loss: 0.0378 - accuracy: 0.9851 - fmeasure: 0.7768 - val_loss: 0.0506 - val_accuracy: 0.9810 - val_fmeasure: 0.7068\n",
      "Epoch 18/18\n",
      "127656/127656 [==============================] - 4s 30us/step - loss: 0.0378 - accuracy: 0.9851 - fmeasure: 0.7782 - val_loss: 0.0504 - val_accuracy: 0.9810 - val_fmeasure: 0.7095\n"
     ]
    },
    {
     "name": "stderr",
     "output_type": "stream",
     "text": [
      "\n",
      " 75%|███████▌  | 12/16 [21:09<06:38, 99.62s/it] \u001b[A"
     ]
    },
    {
     "name": "stdout",
     "output_type": "stream",
     "text": [
      "\n",
      "Epoch 00018: ReduceLROnPlateau reducing learning rate to 7.812499825377017e-05.\n",
      "Train on 127656 samples, validate on 31915 samples\n",
      "Epoch 1/18\n",
      "127656/127656 [==============================] - 5s 36us/step - loss: 0.0626 - accuracy: 0.9770 - fmeasure: 0.6318 - val_loss: 0.0554 - val_accuracy: 0.9783 - val_fmeasure: 0.6308\n",
      "Epoch 2/18\n",
      "127656/127656 [==============================] - 5s 35us/step - loss: 0.0543 - accuracy: 0.9794 - fmeasure: 0.6713 - val_loss: 0.0531 - val_accuracy: 0.9796 - val_fmeasure: 0.6876\n",
      "Epoch 3/18\n",
      "127656/127656 [==============================] - 5s 36us/step - loss: 0.0524 - accuracy: 0.9801 - fmeasure: 0.6847 - val_loss: 0.0521 - val_accuracy: 0.9803 - val_fmeasure: 0.6789\n",
      "Epoch 4/18\n",
      "127656/127656 [==============================] - 5s 36us/step - loss: 0.0514 - accuracy: 0.9804 - fmeasure: 0.6936 - val_loss: 0.0538 - val_accuracy: 0.9797 - val_fmeasure: 0.7016\n",
      "Epoch 5/18\n",
      "127656/127656 [==============================] - 5s 37us/step - loss: 0.0498 - accuracy: 0.9808 - fmeasure: 0.6986 - val_loss: 0.0511 - val_accuracy: 0.9803 - val_fmeasure: 0.6771\n",
      "Epoch 6/18\n",
      "127656/127656 [==============================] - 5s 36us/step - loss: 0.0486 - accuracy: 0.9813 - fmeasure: 0.7080 - val_loss: 0.0528 - val_accuracy: 0.9806 - val_fmeasure: 0.6885\n",
      "Epoch 7/18\n",
      "127656/127656 [==============================] - 5s 36us/step - loss: 0.0477 - accuracy: 0.9816 - fmeasure: 0.7152 - val_loss: 0.0504 - val_accuracy: 0.9804 - val_fmeasure: 0.7055\n",
      "Epoch 8/18\n",
      "127656/127656 [==============================] - 5s 37us/step - loss: 0.0468 - accuracy: 0.9819 - fmeasure: 0.7218 - val_loss: 0.0498 - val_accuracy: 0.9809 - val_fmeasure: 0.6987\n",
      "Epoch 9/18\n",
      "127656/127656 [==============================] - 5s 36us/step - loss: 0.0460 - accuracy: 0.9822 - fmeasure: 0.7261 - val_loss: 0.0503 - val_accuracy: 0.9807 - val_fmeasure: 0.6988\n",
      "Epoch 10/18\n",
      "127656/127656 [==============================] - 5s 37us/step - loss: 0.0453 - accuracy: 0.9825 - fmeasure: 0.7327 - val_loss: 0.0507 - val_accuracy: 0.9809 - val_fmeasure: 0.7038\n",
      "\n",
      "Epoch 00010: ReduceLROnPlateau reducing learning rate to 0.0024999999441206455.\n",
      "Epoch 11/18\n",
      "127656/127656 [==============================] - 5s 36us/step - loss: 0.0425 - accuracy: 0.9833 - fmeasure: 0.7463 - val_loss: 0.0500 - val_accuracy: 0.9808 - val_fmeasure: 0.7161\n",
      "Epoch 12/18\n",
      "127656/127656 [==============================] - 5s 36us/step - loss: 0.0412 - accuracy: 0.9838 - fmeasure: 0.7557 - val_loss: 0.0498 - val_accuracy: 0.9812 - val_fmeasure: 0.7155\n",
      "\n",
      "Epoch 00012: ReduceLROnPlateau reducing learning rate to 0.0012499999720603228.\n",
      "Epoch 13/18\n",
      "127656/127656 [==============================] - 5s 36us/step - loss: 0.0391 - accuracy: 0.9846 - fmeasure: 0.7692 - val_loss: 0.0508 - val_accuracy: 0.9807 - val_fmeasure: 0.7045\n",
      "Epoch 14/18\n",
      "127656/127656 [==============================] - 5s 36us/step - loss: 0.0383 - accuracy: 0.9849 - fmeasure: 0.7747 - val_loss: 0.0504 - val_accuracy: 0.9809 - val_fmeasure: 0.7133\n",
      "\n",
      "Epoch 00014: ReduceLROnPlateau reducing learning rate to 0.0006249999860301614.\n",
      "Epoch 15/18\n",
      "127656/127656 [==============================] - 5s 36us/step - loss: 0.0371 - accuracy: 0.9853 - fmeasure: 0.7806 - val_loss: 0.0505 - val_accuracy: 0.9811 - val_fmeasure: 0.7225\n",
      "Epoch 16/18\n",
      "127656/127656 [==============================] - 5s 36us/step - loss: 0.0366 - accuracy: 0.9855 - fmeasure: 0.7858 - val_loss: 0.0514 - val_accuracy: 0.9809 - val_fmeasure: 0.7135\n",
      "\n",
      "Epoch 00016: ReduceLROnPlateau reducing learning rate to 0.0003124999930150807.\n",
      "Epoch 17/18\n",
      "127656/127656 [==============================] - 5s 36us/step - loss: 0.0359 - accuracy: 0.9857 - fmeasure: 0.7885 - val_loss: 0.0518 - val_accuracy: 0.9808 - val_fmeasure: 0.7084\n",
      "Epoch 18/18\n",
      "127656/127656 [==============================] - 5s 36us/step - loss: 0.0354 - accuracy: 0.9859 - fmeasure: 0.7916 - val_loss: 0.0520 - val_accuracy: 0.9809 - val_fmeasure: 0.7131\n"
     ]
    },
    {
     "name": "stderr",
     "output_type": "stream",
     "text": [
      "\n",
      " 81%|████████▏ | 13/16 [22:33<04:44, 94.90s/it]\u001b[A"
     ]
    },
    {
     "name": "stdout",
     "output_type": "stream",
     "text": [
      "\n",
      "Epoch 00018: ReduceLROnPlateau reducing learning rate to 0.00015624999650754035.\n",
      "Train on 127656 samples, validate on 31915 samples\n",
      "Epoch 1/20\n",
      "127656/127656 [==============================] - 5s 37us/step - loss: 0.0625 - accuracy: 0.9772 - fmeasure: 0.6282 - val_loss: 0.0563 - val_accuracy: 0.9784 - val_fmeasure: 0.6231\n",
      "Epoch 2/20\n",
      "127656/127656 [==============================] - 5s 36us/step - loss: 0.0544 - accuracy: 0.9795 - fmeasure: 0.6718 - val_loss: 0.0545 - val_accuracy: 0.9793 - val_fmeasure: 0.6484\n",
      "Epoch 3/20\n",
      "127656/127656 [==============================] - 5s 36us/step - loss: 0.0527 - accuracy: 0.9802 - fmeasure: 0.6873 - val_loss: 0.0560 - val_accuracy: 0.9788 - val_fmeasure: 0.6319\n",
      "Epoch 4/20\n",
      "127656/127656 [==============================] - 5s 36us/step - loss: 0.0511 - accuracy: 0.9807 - fmeasure: 0.6950 - val_loss: 0.0525 - val_accuracy: 0.9800 - val_fmeasure: 0.6687\n",
      "Epoch 5/20\n",
      "127656/127656 [==============================] - 5s 36us/step - loss: 0.0501 - accuracy: 0.9809 - fmeasure: 0.7025 - val_loss: 0.0513 - val_accuracy: 0.9805 - val_fmeasure: 0.6999\n",
      "Epoch 6/20\n",
      "127656/127656 [==============================] - 5s 36us/step - loss: 0.0489 - accuracy: 0.9814 - fmeasure: 0.7095 - val_loss: 0.0517 - val_accuracy: 0.9802 - val_fmeasure: 0.6694\n",
      "Epoch 7/20\n",
      "127656/127656 [==============================] - 5s 36us/step - loss: 0.0478 - accuracy: 0.9816 - fmeasure: 0.7146 - val_loss: 0.0509 - val_accuracy: 0.9805 - val_fmeasure: 0.6829\n",
      "Epoch 8/20\n",
      "127656/127656 [==============================] - 5s 36us/step - loss: 0.0470 - accuracy: 0.9817 - fmeasure: 0.7177 - val_loss: 0.0516 - val_accuracy: 0.9805 - val_fmeasure: 0.6791\n",
      "Epoch 9/20\n",
      "127656/127656 [==============================] - 5s 36us/step - loss: 0.0463 - accuracy: 0.9820 - fmeasure: 0.7220 - val_loss: 0.0527 - val_accuracy: 0.9802 - val_fmeasure: 0.7090\n",
      "\n",
      "Epoch 00009: ReduceLROnPlateau reducing learning rate to 0.0024999999441206455.\n",
      "Epoch 10/20\n",
      "127656/127656 [==============================] - 5s 36us/step - loss: 0.0432 - accuracy: 0.9831 - fmeasure: 0.7419 - val_loss: 0.0493 - val_accuracy: 0.9811 - val_fmeasure: 0.7113\n",
      "Epoch 11/20\n",
      "127656/127656 [==============================] - 5s 36us/step - loss: 0.0421 - accuracy: 0.9836 - fmeasure: 0.7501 - val_loss: 0.0510 - val_accuracy: 0.9809 - val_fmeasure: 0.6956\n",
      "Epoch 12/20\n",
      "127656/127656 [==============================] - 5s 36us/step - loss: 0.0414 - accuracy: 0.9838 - fmeasure: 0.7555 - val_loss: 0.0511 - val_accuracy: 0.9807 - val_fmeasure: 0.6894\n",
      "\n",
      "Epoch 00012: ReduceLROnPlateau reducing learning rate to 0.0012499999720603228.\n",
      "Epoch 13/20\n",
      "127656/127656 [==============================] - 5s 36us/step - loss: 0.0395 - accuracy: 0.9844 - fmeasure: 0.7654 - val_loss: 0.0510 - val_accuracy: 0.9809 - val_fmeasure: 0.7070\n",
      "Epoch 14/20\n",
      "127656/127656 [==============================] - 5s 36us/step - loss: 0.0386 - accuracy: 0.9848 - fmeasure: 0.7718 - val_loss: 0.0516 - val_accuracy: 0.9809 - val_fmeasure: 0.7050\n",
      "\n",
      "Epoch 00014: ReduceLROnPlateau reducing learning rate to 0.0006249999860301614.\n",
      "Epoch 15/20\n",
      "127656/127656 [==============================] - 5s 36us/step - loss: 0.0376 - accuracy: 0.9851 - fmeasure: 0.7770 - val_loss: 0.0513 - val_accuracy: 0.9810 - val_fmeasure: 0.7099\n",
      "Epoch 16/20\n",
      "127656/127656 [==============================] - 5s 36us/step - loss: 0.0371 - accuracy: 0.9854 - fmeasure: 0.7816 - val_loss: 0.0513 - val_accuracy: 0.9810 - val_fmeasure: 0.7146\n",
      "\n",
      "Epoch 00016: ReduceLROnPlateau reducing learning rate to 0.0003124999930150807.\n",
      "Epoch 17/20\n",
      "127656/127656 [==============================] - 5s 36us/step - loss: 0.0362 - accuracy: 0.9855 - fmeasure: 0.7851 - val_loss: 0.0515 - val_accuracy: 0.9811 - val_fmeasure: 0.7122\n",
      "Epoch 18/20\n",
      "127656/127656 [==============================] - 5s 36us/step - loss: 0.0358 - accuracy: 0.9859 - fmeasure: 0.7901 - val_loss: 0.0518 - val_accuracy: 0.9809 - val_fmeasure: 0.7091\n",
      "\n",
      "Epoch 00018: ReduceLROnPlateau reducing learning rate to 0.00015624999650754035.\n",
      "Epoch 19/20\n",
      "127656/127656 [==============================] - 5s 36us/step - loss: 0.0355 - accuracy: 0.9860 - fmeasure: 0.7920 - val_loss: 0.0516 - val_accuracy: 0.9810 - val_fmeasure: 0.7162\n",
      "Epoch 20/20\n",
      "127656/127656 [==============================] - 5s 36us/step - loss: 0.0355 - accuracy: 0.9860 - fmeasure: 0.7916 - val_loss: 0.0515 - val_accuracy: 0.9810 - val_fmeasure: 0.7163\n"
     ]
    },
    {
     "name": "stderr",
     "output_type": "stream",
     "text": [
      "\n",
      " 88%|████████▊ | 14/16 [24:06<03:08, 94.39s/it]\u001b[A"
     ]
    },
    {
     "name": "stdout",
     "output_type": "stream",
     "text": [
      "\n",
      "Epoch 00020: ReduceLROnPlateau reducing learning rate to 7.812499825377017e-05.\n",
      "Train on 127656 samples, validate on 31915 samples\n",
      "Epoch 1/20\n",
      "127656/127656 [==============================] - 4s 35us/step - loss: 0.0632 - accuracy: 0.9766 - fmeasure: 0.6259 - val_loss: 0.0556 - val_accuracy: 0.9791 - val_fmeasure: 0.6940\n",
      "Epoch 2/20\n",
      "127656/127656 [==============================] - 4s 33us/step - loss: 0.0542 - accuracy: 0.9796 - fmeasure: 0.6739 - val_loss: 0.0526 - val_accuracy: 0.9799 - val_fmeasure: 0.6641\n",
      "Epoch 3/20\n",
      "127656/127656 [==============================] - 4s 34us/step - loss: 0.0523 - accuracy: 0.9801 - fmeasure: 0.6860 - val_loss: 0.0515 - val_accuracy: 0.9804 - val_fmeasure: 0.6902\n",
      "Epoch 4/20\n",
      "127656/127656 [==============================] - 4s 33us/step - loss: 0.0510 - accuracy: 0.9805 - fmeasure: 0.6925 - val_loss: 0.0505 - val_accuracy: 0.9804 - val_fmeasure: 0.6927\n",
      "Epoch 5/20\n",
      "127656/127656 [==============================] - 4s 34us/step - loss: 0.0496 - accuracy: 0.9808 - fmeasure: 0.6998 - val_loss: 0.0506 - val_accuracy: 0.9807 - val_fmeasure: 0.7010\n",
      "Epoch 6/20\n",
      "127656/127656 [==============================] - 4s 33us/step - loss: 0.0484 - accuracy: 0.9814 - fmeasure: 0.7107 - val_loss: 0.0512 - val_accuracy: 0.9802 - val_fmeasure: 0.6876\n",
      "\n",
      "Epoch 00006: ReduceLROnPlateau reducing learning rate to 0.0024999999441206455.\n",
      "Epoch 7/20\n",
      "127656/127656 [==============================] - 4s 34us/step - loss: 0.0458 - accuracy: 0.9823 - fmeasure: 0.7274 - val_loss: 0.0497 - val_accuracy: 0.9807 - val_fmeasure: 0.7055\n",
      "Epoch 8/20\n",
      "127656/127656 [==============================] - 4s 34us/step - loss: 0.0446 - accuracy: 0.9827 - fmeasure: 0.7346 - val_loss: 0.0500 - val_accuracy: 0.9807 - val_fmeasure: 0.7079\n",
      "Epoch 9/20\n",
      "127656/127656 [==============================] - 4s 34us/step - loss: 0.0438 - accuracy: 0.9830 - fmeasure: 0.7394 - val_loss: 0.0499 - val_accuracy: 0.9807 - val_fmeasure: 0.7048\n",
      "\n",
      "Epoch 00009: ReduceLROnPlateau reducing learning rate to 0.0012499999720603228.\n",
      "Epoch 10/20\n",
      "127656/127656 [==============================] - 4s 34us/step - loss: 0.0417 - accuracy: 0.9837 - fmeasure: 0.7516 - val_loss: 0.0499 - val_accuracy: 0.9810 - val_fmeasure: 0.7128\n",
      "Epoch 11/20\n",
      "127656/127656 [==============================] - 4s 33us/step - loss: 0.0413 - accuracy: 0.9839 - fmeasure: 0.7532 - val_loss: 0.0498 - val_accuracy: 0.9811 - val_fmeasure: 0.7096\n",
      "\n",
      "Epoch 00011: ReduceLROnPlateau reducing learning rate to 0.0006249999860301614.\n",
      "Epoch 12/20\n",
      "127656/127656 [==============================] - 4s 34us/step - loss: 0.0396 - accuracy: 0.9845 - fmeasure: 0.7640 - val_loss: 0.0498 - val_accuracy: 0.9810 - val_fmeasure: 0.7212\n",
      "Epoch 13/20\n",
      "127656/127656 [==============================] - 4s 34us/step - loss: 0.0390 - accuracy: 0.9847 - fmeasure: 0.7703 - val_loss: 0.0504 - val_accuracy: 0.9809 - val_fmeasure: 0.7096\n",
      "\n",
      "Epoch 00013: ReduceLROnPlateau reducing learning rate to 0.0003124999930150807.\n",
      "Epoch 14/20\n",
      "127656/127656 [==============================] - 4s 34us/step - loss: 0.0383 - accuracy: 0.9849 - fmeasure: 0.7723 - val_loss: 0.0504 - val_accuracy: 0.9811 - val_fmeasure: 0.7174\n",
      "Epoch 15/20\n",
      "127656/127656 [==============================] - 4s 33us/step - loss: 0.0380 - accuracy: 0.9849 - fmeasure: 0.7734 - val_loss: 0.0504 - val_accuracy: 0.9809 - val_fmeasure: 0.7150\n",
      "\n",
      "Epoch 00015: ReduceLROnPlateau reducing learning rate to 0.00015624999650754035.\n",
      "Epoch 16/20\n",
      "127656/127656 [==============================] - 4s 34us/step - loss: 0.0374 - accuracy: 0.9853 - fmeasure: 0.7787 - val_loss: 0.0505 - val_accuracy: 0.9811 - val_fmeasure: 0.7152\n",
      "Epoch 17/20\n",
      "127656/127656 [==============================] - 4s 34us/step - loss: 0.0374 - accuracy: 0.9852 - fmeasure: 0.7778 - val_loss: 0.0508 - val_accuracy: 0.9810 - val_fmeasure: 0.7144\n",
      "\n",
      "Epoch 00017: ReduceLROnPlateau reducing learning rate to 7.812499825377017e-05.\n",
      "Epoch 18/20\n",
      "127656/127656 [==============================] - 4s 34us/step - loss: 0.0371 - accuracy: 0.9856 - fmeasure: 0.7840 - val_loss: 0.0508 - val_accuracy: 0.9810 - val_fmeasure: 0.7136\n",
      "Epoch 19/20\n",
      "127656/127656 [==============================] - 4s 34us/step - loss: 0.0370 - accuracy: 0.9854 - fmeasure: 0.7817 - val_loss: 0.0508 - val_accuracy: 0.9810 - val_fmeasure: 0.7147\n",
      "\n",
      "Epoch 00019: ReduceLROnPlateau reducing learning rate to 3.9062499126885086e-05.\n",
      "Epoch 20/20\n",
      "127656/127656 [==============================] - 4s 34us/step - loss: 0.0367 - accuracy: 0.9856 - fmeasure: 0.7850 - val_loss: 0.0508 - val_accuracy: 0.9810 - val_fmeasure: 0.7154\n"
     ]
    },
    {
     "name": "stderr",
     "output_type": "stream",
     "text": [
      "\n",
      " 94%|█████████▍| 15/16 [25:33<01:32, 92.06s/it]\u001b[A"
     ]
    },
    {
     "name": "stdout",
     "output_type": "stream",
     "text": [
      "Train on 127656 samples, validate on 31915 samples\n",
      "Epoch 1/20\n",
      "127656/127656 [==============================] - 4s 35us/step - loss: 0.0626 - accuracy: 0.9765 - fmeasure: 0.6266 - val_loss: 0.0589 - val_accuracy: 0.9782 - val_fmeasure: 0.6942\n",
      "Epoch 2/20\n",
      "127656/127656 [==============================] - 4s 33us/step - loss: 0.0541 - accuracy: 0.9796 - fmeasure: 0.6741 - val_loss: 0.0520 - val_accuracy: 0.9802 - val_fmeasure: 0.6878\n",
      "Epoch 3/20\n",
      "127656/127656 [==============================] - 4s 33us/step - loss: 0.0522 - accuracy: 0.9801 - fmeasure: 0.6860 - val_loss: 0.0518 - val_accuracy: 0.9800 - val_fmeasure: 0.6766\n",
      "Epoch 4/20\n",
      "127656/127656 [==============================] - 4s 33us/step - loss: 0.0506 - accuracy: 0.9807 - fmeasure: 0.6969 - val_loss: 0.0511 - val_accuracy: 0.9803 - val_fmeasure: 0.6979\n",
      "Epoch 5/20\n",
      "127656/127656 [==============================] - 4s 33us/step - loss: 0.0496 - accuracy: 0.9811 - fmeasure: 0.7041 - val_loss: 0.0509 - val_accuracy: 0.9805 - val_fmeasure: 0.6921\n",
      "Epoch 6/20\n",
      "127656/127656 [==============================] - 4s 33us/step - loss: 0.0486 - accuracy: 0.9813 - fmeasure: 0.7104 - val_loss: 0.0502 - val_accuracy: 0.9808 - val_fmeasure: 0.7004\n",
      "Epoch 7/20\n",
      "127656/127656 [==============================] - 4s 33us/step - loss: 0.0476 - accuracy: 0.9817 - fmeasure: 0.7171 - val_loss: 0.0510 - val_accuracy: 0.9806 - val_fmeasure: 0.6947\n",
      "Epoch 8/20\n",
      "127656/127656 [==============================] - 4s 33us/step - loss: 0.0466 - accuracy: 0.9819 - fmeasure: 0.7205 - val_loss: 0.0502 - val_accuracy: 0.9803 - val_fmeasure: 0.6844\n",
      "\n",
      "Epoch 00008: ReduceLROnPlateau reducing learning rate to 0.0024999999441206455.\n",
      "Epoch 9/20\n",
      "127656/127656 [==============================] - 4s 33us/step - loss: 0.0440 - accuracy: 0.9828 - fmeasure: 0.7366 - val_loss: 0.0503 - val_accuracy: 0.9808 - val_fmeasure: 0.6934\n",
      "Epoch 10/20\n",
      "127656/127656 [==============================] - 4s 33us/step - loss: 0.0427 - accuracy: 0.9835 - fmeasure: 0.7474 - val_loss: 0.0512 - val_accuracy: 0.9804 - val_fmeasure: 0.7022\n",
      "\n",
      "Epoch 00010: ReduceLROnPlateau reducing learning rate to 0.0012499999720603228.\n",
      "Epoch 11/20\n",
      "127656/127656 [==============================] - 4s 33us/step - loss: 0.0407 - accuracy: 0.9840 - fmeasure: 0.7588 - val_loss: 0.0499 - val_accuracy: 0.9809 - val_fmeasure: 0.7083\n",
      "Epoch 12/20\n",
      "127656/127656 [==============================] - 4s 33us/step - loss: 0.0400 - accuracy: 0.9844 - fmeasure: 0.7639 - val_loss: 0.0499 - val_accuracy: 0.9808 - val_fmeasure: 0.7193\n",
      "Epoch 13/20\n",
      "127656/127656 [==============================] - 4s 33us/step - loss: 0.0394 - accuracy: 0.9845 - fmeasure: 0.7663 - val_loss: 0.0503 - val_accuracy: 0.9809 - val_fmeasure: 0.7099\n",
      "\n",
      "Epoch 00013: ReduceLROnPlateau reducing learning rate to 0.0006249999860301614.\n",
      "Epoch 14/20\n",
      "127656/127656 [==============================] - 4s 33us/step - loss: 0.0380 - accuracy: 0.9850 - fmeasure: 0.7749 - val_loss: 0.0506 - val_accuracy: 0.9809 - val_fmeasure: 0.7113\n",
      "Epoch 15/20\n",
      "127656/127656 [==============================] - 4s 33us/step - loss: 0.0374 - accuracy: 0.9852 - fmeasure: 0.7782 - val_loss: 0.0510 - val_accuracy: 0.9809 - val_fmeasure: 0.7118\n",
      "\n",
      "Epoch 00015: ReduceLROnPlateau reducing learning rate to 0.0003124999930150807.\n",
      "Epoch 16/20\n",
      "127656/127656 [==============================] - 4s 33us/step - loss: 0.0366 - accuracy: 0.9857 - fmeasure: 0.7857 - val_loss: 0.0513 - val_accuracy: 0.9809 - val_fmeasure: 0.7094\n",
      "Epoch 17/20\n",
      "127656/127656 [==============================] - 4s 33us/step - loss: 0.0365 - accuracy: 0.9857 - fmeasure: 0.7855 - val_loss: 0.0517 - val_accuracy: 0.9810 - val_fmeasure: 0.7100\n",
      "\n",
      "Epoch 00017: ReduceLROnPlateau reducing learning rate to 0.00015624999650754035.\n",
      "Epoch 18/20\n",
      "127656/127656 [==============================] - 4s 33us/step - loss: 0.0359 - accuracy: 0.9859 - fmeasure: 0.7893 - val_loss: 0.0517 - val_accuracy: 0.9809 - val_fmeasure: 0.7092\n",
      "Epoch 19/20\n",
      "127656/127656 [==============================] - 4s 33us/step - loss: 0.0358 - accuracy: 0.9859 - fmeasure: 0.7891 - val_loss: 0.0514 - val_accuracy: 0.9809 - val_fmeasure: 0.7169\n",
      "\n",
      "Epoch 00019: ReduceLROnPlateau reducing learning rate to 7.812499825377017e-05.\n",
      "Epoch 20/20\n",
      "127656/127656 [==============================] - 4s 35us/step - loss: 0.0354 - accuracy: 0.9861 - fmeasure: 0.7928 - val_loss: 0.0517 - val_accuracy: 0.9809 - val_fmeasure: 0.7118\n"
     ]
    },
    {
     "name": "stderr",
     "output_type": "stream",
     "text": [
      "\n",
      "100%|██████████| 16/16 [26:59<00:00, 101.21s/it][A\n"
     ]
    }
   ],
   "source": [
    "# Define AGAIN the scan, this time implement a probability reduction\n",
    "scan_object = talos.Scan(x=x_train,\n",
    "                         y=y_train,\n",
    "                         x_val=x_val,\n",
    "                         y_val=y_val,\n",
    "                         params=params,\n",
    "                         reduction_method='forrest',\n",
    "                         reduction_metric='val_fmeasure',\n",
    "                         performance_target=['val_fmeasure', 0.8, False],\n",
    "                         model=toxic_clf,\n",
    "                         fraction_limit= 0.5,\n",
    "                         experiment_name='toxic_comments')"
   ]
  },
  {
   "cell_type": "markdown",
   "metadata": {},
   "source": [
    "### Testiamo ancora"
   ]
  },
  {
   "cell_type": "code",
   "execution_count": 60,
   "metadata": {},
   "outputs": [
    {
     "name": "stdout",
     "output_type": "stream",
     "text": [
      "Deploy package toxic_comments_deploy_last have been saved.\n"
     ]
    }
   ],
   "source": [
    "talos.Deploy(scan_object=scan_object, model_name='toxic_comments_deploy_last', metric='val_fmeasure');\n",
    "\n",
    "model = talos.Restore('toxic_comments_deploy_last.zip')"
   ]
  },
  {
   "cell_type": "code",
   "execution_count": 61,
   "metadata": {},
   "outputs": [
    {
     "name": "stdout",
     "output_type": "stream",
     "text": [
      "               precision    recall  f1-score   support\n",
      "\n",
      "        toxic       0.99      0.74      0.85      6090\n",
      " severe_toxic       0.41      0.27      0.32       367\n",
      "      obscene       0.84      0.67      0.74      3691\n",
      "       threat       0.76      0.36      0.49       211\n",
      "       insult       0.79      0.62      0.69      3427\n",
      "identity_hate       0.75      0.32      0.45       712\n",
      "\n",
      "  avg / total       0.87      0.66      0.75     14498\n",
      "\n",
      "Micro avg:  (0.8769570823356051, 0.6567802455511105, 0.7510648367250355, None)\n"
     ]
    }
   ],
   "source": [
    "y_pred = np.round(model.model.predict(test_vectors))\n",
    "c = classification_report(test_labels, y_pred, target_names=list_classes)\n",
    "print(c)\n",
    "\n",
    "score = precision_recall_fscore_support(test_labels, y_pred, average='micro')\n",
    "print('Micro avg: ', score)"
   ]
  },
  {
   "cell_type": "markdown",
   "metadata": {},
   "source": [
    "### Proprio quello che volevamo! abbiamo trovato una combinazione che ci ha permesso di superare il 75% di fmeasure in micro avg."
   ]
  },
  {
   "cell_type": "markdown",
   "metadata": {},
   "source": [
    "### Controlliamo ora gli iperparametri"
   ]
  },
  {
   "cell_type": "code",
   "execution_count": 63,
   "metadata": {},
   "outputs": [
    {
     "name": "stdout",
     "output_type": "stream",
     "text": [
      "Best params: \n",
      "Number of epochs:  15\n",
      "Batch size:  256\n",
      "Third hidden:  50\n",
      "Second hidden:  200\n",
      "First hidden:  500\n"
     ]
    }
   ],
   "source": [
    "bp = analyze_object.best_params('val_fmeasure', exclude=['val_loss', 'val_accuracy', 'loss', \n",
    "                                                         'accuracy','fmeasure', 'lr'])\n",
    "print(\"Best params: \")\n",
    "print(\"Number of epochs: \",bp[0][1])\n",
    "print(\"Batch size: \", bp[0][4])\n",
    "print(\"Third hidden: \", bp[0][2])\n",
    "print(\"Second hidden: \", bp[0][5])\n",
    "print(\"First hidden: \", bp[0][3])"
   ]
  },
  {
   "cell_type": "markdown",
   "metadata": {},
   "source": [
    "### Osserviamo infine l'andamento del best seen per quanto riguarda Fmeasure e Val Fmeasure"
   ]
  },
  {
   "cell_type": "code",
   "execution_count": 73,
   "metadata": {},
   "outputs": [],
   "source": [
    "def plot_best_seen(best_seen, iteration, measure):\n",
    "    plt.figure()\n",
    "    plt.xlabel('Iteration')\n",
    "    plt.ylabel(measure)\n",
    "    plt.step(iteration, best_seen)\n",
    "    plt.ylim(best_seen[0]-0.002, best_seen[len(best_seen)-1]+0.002)\n",
    "    plt.xticks(np.arange(0, len(iteration)+1, 1)) \n",
    "    plt.show()\n",
    "\n",
    "def create_bestseen(values):\n",
    "    best_seen = []\n",
    "    iteration = []\n",
    "    i = 0\n",
    "\n",
    "    for val in values:\n",
    "        if (i == 0): best_seen.append(val)\n",
    "        elif (val > best_seen[i-1]): best_seen.append(val)\n",
    "        else: best_seen.append(best_seen[i-1])\n",
    "        i += 1\n",
    "        iteration.append(i)\n",
    "\n",
    "    return best_seen, iteration"
   ]
  },
  {
   "cell_type": "code",
   "execution_count": 75,
   "metadata": {},
   "outputs": [
    {
     "data": {
      "image/png": "[encoded data removed]",
      "text/plain": [
       "<Figure size 432x288 with 1 Axes>"
      ]
     },
     "metadata": {},
     "output_type": "display_data"
    },
    {
     "data": {
      "image/png": "[encoded data removed]",
      "text/plain": [
       "<Figure size 432x288 with 1 Axes>"
      ]
     },
     "metadata": {},
     "output_type": "display_data"
    }
   ],
   "source": [
    "PATH = path.abspath(\"\")+'/toxic_comments_deploy_last/'\n",
    "\n",
    "df = pd.read_csv(PATH+'toxic_comments_deploy_last_results.csv')\n",
    "\n",
    "val_fmeasure = df['val_fmeasure']\n",
    "fmeasure = df['fmeasure']\n",
    "\n",
    "best_seen_valf, iteration_valf = create_bestseen(val_fmeasure)\n",
    "best_seen_f, iteration_f = create_bestseen(fmeasure)\n",
    "\n",
    "plot_best_seen(best_seen_valf, iteration_valf, 'val_fmeasure')\n",
    "plot_best_seen(best_seen_f, iteration_f, 'fmeasure')"
   ]
  },
  {
   "cell_type": "markdown",
   "metadata": {},
   "source": [
    "### Osserviamo alcuni errori: in posizione 101 ad esempio il commento non è stato classificato come insult"
   ]
  },
  {
   "cell_type": "code",
   "execution_count": 84,
   "metadata": {},
   "outputs": [
    {
     "name": "stdout",
     "output_type": "stream",
     "text": [
      "Real labels:  [1. 0. 0. 0. 1. 0.]\n",
      "Prediction:  [1. 0. 0. 0. 0. 0.]\n"
     ]
    }
   ],
   "source": [
    "print(\"Real labels: \",test_labels.values[101])\n",
    "print(\"Prediction: \",y_pred[101])"
   ]
  },
  {
   "cell_type": "markdown",
   "metadata": {},
   "source": [
    "### Controlliamo il commento originale per capirne di più"
   ]
  },
  {
   "cell_type": "code",
   "execution_count": 97,
   "metadata": {},
   "outputs": [],
   "source": [
    "test_data = pd.read_csv('dataset/test.csv')\n",
    "temp_test_labels = pd.read_csv('dataset/test_labels.csv')\n",
    "test_combined = pd.merge(test_data, temp_test_labels, on=['id'])\n",
    "\n",
    "# Now remove -1 and 0 values\n",
    "test_data = test_combined[(test_combined.toxic == 1) | (test_combined.severe_toxic == 1) |\n",
    "                      (test_combined.obscene == 1) | (test_combined.threat == 1) | (test_combined.insult == 1) |\n",
    "                      (test_combined.identity_hate == 1)]"
   ]
  },
  {
   "cell_type": "code",
   "execution_count": 103,
   "metadata": {},
   "outputs": [
    {
     "name": "stdout",
     "output_type": "stream",
     "text": [
      "I sometimes wonder why some people feel they are entitled to act any way they want, I was not bothering you, and yet you have started this.  I don't think it is any of your concern what I do...who are you to police me??  Like your so innocent, You are constantly stirring up the pot and causing trouble, so save me your so innocent act and quit being a hypocrite....wanna be revolutionary, you think your so perfect and righteous and everyone is wrong except you...your a biased fanatic and you make me sick, your a spoiled baby and I want you to quit interfering in what I do!!\n"
     ]
    }
   ],
   "source": [
    "comments = test_data.comment_text.values\n",
    "print(comments[101])"
   ]
  },
  {
   "cell_type": "markdown",
   "metadata": {},
   "source": [
    "### Ok, questo commento è abbastanza ambiguo, ci può stare un errore su questo, anche perchè osservandolo non sembrerebbe nemmeno un insulto ma un commento in risposta a qualcuno che ha effettivamente insultato.\n",
    "\n",
    "### Osserviamone un altro, il 108 è stato interamente sbagliato:"
   ]
  },
  {
   "cell_type": "code",
   "execution_count": 104,
   "metadata": {},
   "outputs": [
    {
     "name": "stdout",
     "output_type": "stream",
     "text": [
      "Real labels:  [1. 0. 0. 0. 1. 1.]\n",
      "Prediction:  [0. 0. 0. 0. 0. 0.]\n"
     ]
    }
   ],
   "source": [
    "print(\"Real labels: \",test_labels.values[108])\n",
    "print(\"Prediction: \",y_pred[108])"
   ]
  },
  {
   "cell_type": "code",
   "execution_count": 105,
   "metadata": {},
   "outputs": [
    {
     "name": "stdout",
     "output_type": "stream",
     "text": [
      "Look, you're a pedant, and Fetzer is a Jew-hater. On Press TV in the UK today - September 2nd 2011 - he said that the Israelis were behind 9/11. The man is a complete fool.\n"
     ]
    }
   ],
   "source": [
    "print(comments[108])"
   ]
  },
  {
   "cell_type": "markdown",
   "metadata": {},
   "source": [
    "### Anche in questo caso probabilmente c'è un errore nella etichettatura. A tal proposito, alcune veloci considerazioni possono essere che, se è stata una macchina ad etichettare, allora probabilmente vi era un bias verso alcune parole (jew -> identity hate), altrimenti se è stato un umano allora ha proprio sbagliato. Ci sta etichettare questo commento come tossico, alla fine sta criticando/insultando qualcuno, ma etichettarlo come identity hate è eccessivo.\n",
    "\n",
    "### Osserviamo ora il 104"
   ]
  },
  {
   "cell_type": "code",
   "execution_count": 106,
   "metadata": {},
   "outputs": [
    {
     "name": "stdout",
     "output_type": "stream",
     "text": [
      "Real labels:  [1. 0. 1. 0. 0. 0.]\n",
      "Prediction:  [0. 0. 0. 0. 0. 0.]\n"
     ]
    }
   ],
   "source": [
    "print(\"Real labels: \",test_labels.values[104])\n",
    "print(\"Prediction: \",y_pred[104])"
   ]
  },
  {
   "cell_type": "code",
   "execution_count": 107,
   "metadata": {},
   "outputs": [
    {
     "name": "stdout",
     "output_type": "stream",
     "text": [
      "== CHANGES TO DUARTE ARE TRUE == \n",
      "\n",
      " Wikipedia sucks.\n"
     ]
    }
   ],
   "source": [
    "print(comments[104])"
   ]
  },
  {
   "cell_type": "markdown",
   "metadata": {},
   "source": [
    "### In questo caso, l'etichetta oscena sembra eccessiva. \"wikipedia fa schifo\" ci sta come commento tossico, ma non osceno.\n",
    "\n",
    "### Osserviamo ora un caso diverso, ovvero una situazione in cui il nostro classificatore ha etichettato commenti che non andavano etichettati:"
   ]
  },
  {
   "cell_type": "code",
   "execution_count": 108,
   "metadata": {},
   "outputs": [
    {
     "name": "stdout",
     "output_type": "stream",
     "text": [
      "Real labels:  [1. 0. 0. 0. 1. 0.]\n",
      "Prediction:  [1. 1. 1. 0. 1. 0.]\n"
     ]
    }
   ],
   "source": [
    "print(\"Real labels: \",test_labels.values[105])\n",
    "print(\"Prediction: \",y_pred[105])"
   ]
  },
  {
   "cell_type": "code",
   "execution_count": 109,
   "metadata": {},
   "outputs": [
    {
     "name": "stdout",
     "output_type": "stream",
     "text": [
      "sup my peeps japan sucks hola from mexico senioritas you suuuuuuuuuuuuuuuuuuuuuuuuuuuuuuuuuuuuuucccccccccccccccccccccccccccccccccckkkkkkkkkkkkkkk\n"
     ]
    }
   ],
   "source": [
    "print(comments[105])"
   ]
  },
  {
   "cell_type": "markdown",
   "metadata": {},
   "source": [
    "### Questo commento pare molto più osceno rispetto al commento precedente. Probabilmente tutte queste lettere in aggiunta hanno enfatizzato la tossicità nel nostro classificatore.\n",
    "\n",
    "### Osserviamo il numero 2000"
   ]
  },
  {
   "cell_type": "code",
   "execution_count": 115,
   "metadata": {},
   "outputs": [
    {
     "name": "stdout",
     "output_type": "stream",
     "text": [
      "Real labels:  [1. 0. 1. 0. 1. 0.]\n",
      "Prediction:  [1. 0. 0. 0. 1. 0.]\n"
     ]
    }
   ],
   "source": [
    "print(\"Real labels: \",test_labels.values[2000])\n",
    "print(\"Prediction: \",y_pred[2000])"
   ]
  },
  {
   "cell_type": "code",
   "execution_count": 116,
   "metadata": {},
   "outputs": [
    {
     "name": "stdout",
     "output_type": "stream",
     "text": [
      ":You're a so stupid guy.\n"
     ]
    }
   ],
   "source": [
    "print(comments[2000])"
   ]
  },
  {
   "cell_type": "markdown",
   "metadata": {},
   "source": [
    "### Anche in questo caso, il tag obscene sembra eccessivo. E' un commento tossico relativo a un insulto, il nostro classificatore ha classificato bene.\n",
    "\n",
    "### Osserviamo un ultimo commento"
   ]
  },
  {
   "cell_type": "code",
   "execution_count": 121,
   "metadata": {},
   "outputs": [
    {
     "name": "stdout",
     "output_type": "stream",
     "text": [
      "Real labels:  [1. 0. 1. 0. 1. 0.]\n",
      "Prediction:  [0. 0. 0. 0. 0. 0.]\n"
     ]
    }
   ],
   "source": [
    "print(\"Real labels: \",test_labels.values[2016])\n",
    "print(\"Prediction: \",y_pred[2016])"
   ]
  },
  {
   "cell_type": "code",
   "execution_count": 122,
   "metadata": {},
   "outputs": [
    {
     "name": "stdout",
     "output_type": "stream",
     "text": [
      "\" \n",
      " :Yeah, wouldn't that be fun if we'd just let you put your junk wherever it pleases you; as for the \"\"clown\"\"-label, read WP:NPA.   \"\n"
     ]
    }
   ],
   "source": [
    "print(comments[2016])"
   ]
  },
  {
   "cell_type": "markdown",
   "metadata": {},
   "source": [
    "### Questo è un altro commento estremamente ambiguo, difficile da interpretare perfino per un umano.\n",
    "\n",
    "### Concludendo, è evidente che molte etichette siano state utilizzate male/a sproposito, quindi ci aspettiamo che il nostro classificatore funzioni in realtà meglio di quanto visto nel classification report."
   ]
  },
  {
   "cell_type": "code",
   "execution_count": null,
   "metadata": {},
   "outputs": [],
   "source": []
  }
 ],
 "metadata": {
  "kernelspec": {
   "display_name": "Python 3",
   "language": "python",
   "name": "python3"
  },
  "language_info": {
   "codemirror_mode": {
    "name": "ipython",
    "version": 3
   },
   "file_extension": ".py",
   "mimetype": "text/x-python",
   "name": "python",
   "nbconvert_exporter": "python",
   "pygments_lexer": "ipython3",
   "version": "3.7.5"
  }
 },
 "nbformat": 4,
 "nbformat_minor": 2
}
